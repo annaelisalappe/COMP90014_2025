{
 "cells": [
  {
   "cell_type": "markdown",
   "metadata": {},
   "source": [
    "# Week 5 - Trees and Sankoff"
   ]
  },
  {
   "cell_type": "markdown",
   "metadata": {},
   "source": [
    "<div style=\"color: rgb(27,94,32); background: rgb(200,230,201); border: solid 1px rgb(129,199,132); padding: 10px;\">\n",
    "\n",
    "This week we'll implement the Sankoff algorithm as seen in the Week4 lecture. This is a good introduction to programming with phylogenetic trees and NetworkX package.\n",
    "    \n",
    "</div>"
   ]
  },
  {
   "cell_type": "markdown",
   "metadata": {},
   "source": [
    "## Setup"
   ]
  },
  {
   "cell_type": "markdown",
   "metadata": {},
   "source": [
    "Make sure you have `python >= 3.10`. Check using `python --version` or `python3 --version`.\n",
    "\n",
    "**Week 5 packages**\n",
    "\n",
    "This week we will use:\n",
    "- networkx\n",
    "- ipykernel\n",
    "- matplotlib"
   ]
  },
  {
   "cell_type": "code",
   "execution_count": 2,
   "metadata": {},
   "outputs": [
    {
     "name": "stdout",
     "output_type": "stream",
     "text": [
      "Collecting networkx\n",
      "  Using cached networkx-3.5-py3-none-any.whl.metadata (6.3 kB)\n",
      "Requirement already satisfied: numpy in /opt/miniconda3/envs/algorithms-a1/lib/python3.13/site-packages (2.3.1)\n",
      "Collecting matplotlib\n",
      "  Downloading matplotlib-3.10.5-cp313-cp313-macosx_11_0_arm64.whl.metadata (11 kB)\n",
      "Collecting contourpy>=1.0.1 (from matplotlib)\n",
      "  Downloading contourpy-1.3.3-cp313-cp313-macosx_11_0_arm64.whl.metadata (5.5 kB)\n",
      "Collecting cycler>=0.10 (from matplotlib)\n",
      "  Using cached cycler-0.12.1-py3-none-any.whl.metadata (3.8 kB)\n",
      "Collecting fonttools>=4.22.0 (from matplotlib)\n",
      "  Downloading fonttools-4.59.2-cp313-cp313-macosx_10_13_universal2.whl.metadata (109 kB)\n",
      "Collecting kiwisolver>=1.3.1 (from matplotlib)\n",
      "  Downloading kiwisolver-1.4.9-cp313-cp313-macosx_11_0_arm64.whl.metadata (6.3 kB)\n",
      "Requirement already satisfied: packaging>=20.0 in /opt/miniconda3/envs/algorithms-a1/lib/python3.13/site-packages (from matplotlib) (25.0)\n",
      "Collecting pillow>=8 (from matplotlib)\n",
      "  Downloading pillow-11.3.0-cp313-cp313-macosx_11_0_arm64.whl.metadata (9.0 kB)\n",
      "Collecting pyparsing>=2.3.1 (from matplotlib)\n",
      "  Using cached pyparsing-3.2.3-py3-none-any.whl.metadata (5.0 kB)\n",
      "Requirement already satisfied: python-dateutil>=2.7 in /opt/miniconda3/envs/algorithms-a1/lib/python3.13/site-packages (from matplotlib) (2.9.0.post0)\n",
      "Requirement already satisfied: six>=1.5 in /opt/miniconda3/envs/algorithms-a1/lib/python3.13/site-packages (from python-dateutil>=2.7->matplotlib) (1.17.0)\n",
      "Using cached networkx-3.5-py3-none-any.whl (2.0 MB)\n",
      "Downloading matplotlib-3.10.5-cp313-cp313-macosx_11_0_arm64.whl (8.1 MB)\n",
      "\u001b[2K   \u001b[90m━━━━━━━━━━━━━━━━━━━━━━━━━━━━━━━━━━━━━━━━\u001b[0m \u001b[32m8.1/8.1 MB\u001b[0m \u001b[31m16.6 MB/s\u001b[0m eta \u001b[36m0:00:00\u001b[0ma \u001b[36m0:00:01\u001b[0m\n",
      "\u001b[?25hDownloading contourpy-1.3.3-cp313-cp313-macosx_11_0_arm64.whl (274 kB)\n",
      "Using cached cycler-0.12.1-py3-none-any.whl (8.3 kB)\n",
      "Downloading fonttools-4.59.2-cp313-cp313-macosx_10_13_universal2.whl (2.8 MB)\n",
      "\u001b[2K   \u001b[90m━━━━━━━━━━━━━━━━━━━━━━━━━━━━━━━━━━━━━━━━\u001b[0m \u001b[32m2.8/2.8 MB\u001b[0m \u001b[31m12.0 MB/s\u001b[0m eta \u001b[36m0:00:00\u001b[0ma \u001b[36m0:00:01\u001b[0m\n",
      "\u001b[?25hDownloading kiwisolver-1.4.9-cp313-cp313-macosx_11_0_arm64.whl (64 kB)\n",
      "Downloading pillow-11.3.0-cp313-cp313-macosx_11_0_arm64.whl (4.7 MB)\n",
      "\u001b[2K   \u001b[90m━━━━━━━━━━━━━━━━━━━━━━━━━━━━━━━━━━━━━━━━\u001b[0m \u001b[32m4.7/4.7 MB\u001b[0m \u001b[31m20.7 MB/s\u001b[0m eta \u001b[36m0:00:00\u001b[0ma \u001b[36m0:00:01\u001b[0m\n",
      "\u001b[?25hUsing cached pyparsing-3.2.3-py3-none-any.whl (111 kB)\n",
      "Installing collected packages: pyparsing, pillow, networkx, kiwisolver, fonttools, cycler, contourpy, matplotlib\n",
      "\u001b[2K   \u001b[90m━━━━━━━━━━━━━━━━━━━━━━━━━━━━━━━━━━━━━━━━\u001b[0m \u001b[32m8/8\u001b[0m [matplotlib]8\u001b[0m [matplotlib]\n",
      "\u001b[1A\u001b[2KSuccessfully installed contourpy-1.3.3 cycler-0.12.1 fonttools-4.59.2 kiwisolver-1.4.9 matplotlib-3.10.5 networkx-3.5 pillow-11.3.0 pyparsing-3.2.3\n",
      "Note: you may need to restart the kernel to use updated packages.\n"
     ]
    }
   ],
   "source": [
    "%pip install networkx numpy matplotlib\n",
    "# Import Necessary Packages\n",
    "import networkx as nx\n",
    "import numpy as np\n",
    "import matplotlib.pyplot as plt"
   ]
  },
  {
   "cell_type": "markdown",
   "metadata": {},
   "source": [
    "## Building Trees"
   ]
  },
  {
   "cell_type": "markdown",
   "metadata": {},
   "source": [
    "### Introduction to NetworkX Package\n",
    "\n",
    "\"NetworkX is a Python package for the creation, manipulation, and study of the structure, dynamics, and functions of complex networks.\"\n",
    "\n",
    "Official tutorials can be found in this [link](https://networkx.org/documentation/stable/tutorial.html)."
   ]
  },
  {
   "cell_type": "markdown",
   "metadata": {},
   "source": [
    "Create an empty directed graph with no nodes and no edges (as trees are a special directed graph):"
   ]
  },
  {
   "cell_type": "code",
   "execution_count": 3,
   "metadata": {},
   "outputs": [
    {
     "data": {
      "text/plain": [
       "<networkx.classes.digraph.DiGraph at 0x12f823620>"
      ]
     },
     "execution_count": 3,
     "metadata": {},
     "output_type": "execute_result"
    }
   ],
   "source": [
    "# Directed graph\n",
    "G = nx.DiGraph()\n",
    "G"
   ]
  },
  {
   "cell_type": "markdown",
   "metadata": {},
   "source": [
    "You can add nodes to a graph using a list (or an iterator)."
   ]
  },
  {
   "cell_type": "code",
   "execution_count": 4,
   "metadata": {},
   "outputs": [],
   "source": [
    "G.add_node(1)\n",
    "G.add_nodes_from([2, 3])"
   ]
  },
  {
   "cell_type": "markdown",
   "metadata": {},
   "source": [
    "You can also store attributes inside nodes"
   ]
  },
  {
   "cell_type": "code",
   "execution_count": 6,
   "metadata": {},
   "outputs": [
    {
     "data": {
      "text/plain": [
       "array([[0., 0., 0., 0.],\n",
       "       [0., 0., 0., 0.],\n",
       "       [0., 0., 0., 0.],\n",
       "       [0., 0., 0., 0.]])"
      ]
     },
     "execution_count": 6,
     "metadata": {},
     "output_type": "execute_result"
    }
   ],
   "source": [
    "# Add a node 4, and store a matrix in that node\n",
    "G.add_node(4, matrix = np.zeros(shape = (4, 4)))\n",
    "# Get the matrix in node 4\n",
    "G.nodes[4]['matrix']"
   ]
  },
  {
   "cell_type": "markdown",
   "metadata": {},
   "source": [
    "**Note:** The matrix is a reference. You can assign the reference (pointer) to a new variable, and modify the actual matrix in the graph."
   ]
  },
  {
   "cell_type": "code",
   "execution_count": 7,
   "metadata": {},
   "outputs": [
    {
     "data": {
      "text/plain": [
       "array([[1., 0., 0., 0.],\n",
       "       [0., 0., 0., 0.],\n",
       "       [0., 0., 0., 0.],\n",
       "       [0., 0., 0., 0.]])"
      ]
     },
     "execution_count": 7,
     "metadata": {},
     "output_type": "execute_result"
    }
   ],
   "source": [
    "mat_4 = G.nodes[4]['matrix']\n",
    "mat_4[0, 0] = 1\n",
    "G.nodes[4]['matrix']"
   ]
  },
  {
   "cell_type": "markdown",
   "metadata": {},
   "source": [
    "Edges can be added one at a time."
   ]
  },
  {
   "cell_type": "code",
   "execution_count": 8,
   "metadata": {},
   "outputs": [],
   "source": [
    "G.add_edge(1, 2)"
   ]
  },
  {
   "cell_type": "markdown",
   "metadata": {},
   "source": [
    "We can check the elements of a graph using the following:"
   ]
  },
  {
   "cell_type": "code",
   "execution_count": 9,
   "metadata": {},
   "outputs": [
    {
     "data": {
      "text/plain": [
       "[1, 2, 3, 4]"
      ]
     },
     "execution_count": 9,
     "metadata": {},
     "output_type": "execute_result"
    }
   ],
   "source": [
    "# Get all nodes in graph G\n",
    "list(G.nodes)"
   ]
  },
  {
   "cell_type": "code",
   "execution_count": 10,
   "metadata": {},
   "outputs": [
    {
     "data": {
      "text/plain": [
       "[(1, 2)]"
      ]
     },
     "execution_count": 10,
     "metadata": {},
     "output_type": "execute_result"
    }
   ],
   "source": [
    "# Get all edges in graph G\n",
    "list(G.edges)"
   ]
  },
  {
   "cell_type": "code",
   "execution_count": 11,
   "metadata": {},
   "outputs": [
    {
     "data": {
      "text/plain": [
       "[2]"
      ]
     },
     "execution_count": 11,
     "metadata": {},
     "output_type": "execute_result"
    }
   ],
   "source": [
    "# Get all successsors (children) of node 1\n",
    "list(G.successors(1))"
   ]
  },
  {
   "cell_type": "markdown",
   "metadata": {},
   "source": [
    "### Creating the substitution matrix\n",
    "First, we will create the $c_{ij}$ matrix that contains the substitution scores. As we saw in lecture, the score for no change is 0, the score for a trasition is 1.0 and the score for a transversion is 2.5.\n",
    "\n",
    "We could hard code this since it's only 4x4 but here is some code that will build the matrix as a numpy matrix. The nuclei to integer index mapping are hard coded as a dictionary."
   ]
  },
  {
   "cell_type": "code",
   "execution_count": 12,
   "metadata": {
    "jupyter": {
     "outputs_hidden": true
    }
   },
   "outputs": [
    {
     "name": "stdout",
     "output_type": "stream",
     "text": [
      "The Cost Matrix:\n",
      "[[0.  2.5 1.  2.5]\n",
      " [2.5 0.  2.5 1. ]\n",
      " [1.  2.5 0.  2.5]\n",
      " [2.5 1.  2.5 0. ]]\n"
     ]
    }
   ],
   "source": [
    "# Define nucleotides and index mapping\n",
    "CHARACTERS = [\"A\", \"C\", \"G\", \"T\"]\n",
    "idx = {nt:i for i,nt in enumerate(CHARACTERS)}\n",
    "\n",
    "# Build cost matrix (default = 2.5, transitions = 1, identity = 0)\n",
    "cost_mat = np.full((4,4), 2.5)\n",
    "cost_mat[idx['A'], idx['G']] = cost_mat[idx['G'], idx['A']] = 1.0\n",
    "cost_mat[idx['C'], idx['T']] = cost_mat[idx['T'], idx['C']] = 1.0\n",
    "np.fill_diagonal(cost_mat, 0.0)\n",
    "\n",
    "\n",
    "print(\"The Cost Matrix:\")\n",
    "print(cost_mat)"
   ]
  },
  {
   "cell_type": "markdown",
   "metadata": {},
   "source": [
    "In practical terms, this allows us to easily get a specific $c_{ij}$ value using matrix indices, which improves code readability and have optimal performance."
   ]
  },
  {
   "cell_type": "code",
   "execution_count": 13,
   "metadata": {},
   "outputs": [
    {
     "name": "stdout",
     "output_type": "stream",
     "text": [
      "The cost of A to C is: 2.5\n"
     ]
    }
   ],
   "source": [
    "print(\"The cost of A to C is:\", cost_mat[idx['A'], idx['C']])"
   ]
  },
  {
   "cell_type": "markdown",
   "metadata": {},
   "source": [
    "### Initializing the tree\n",
    "\n",
    "We will also implement the tree as a directed NetworksX graph. The node names are tips, internals, or root. Tree branches are stored as directed edges in the graph object. The value matrix is stored in each node as an attribute.\n",
    "\n",
    "The following function creates an empty directed graph object (or a tree) suitable for running the Sankoff algorithm on DNA data with the correct number of nodes given a number of tips."
   ]
  },
  {
   "cell_type": "code",
   "execution_count": 14,
   "metadata": {
    "jupyter": {
     "outputs_hidden": true
    }
   },
   "outputs": [],
   "source": [
    "def init_tree(num_seq):\n",
    "    \"\"\"\n",
    "    Create an empty tree with the tip initialized.\n",
    "    The tree is not connected, but the number of nodes is correct\n",
    "    \"\"\"\n",
    "    G = nx.DiGraph()\n",
    "    # Create a matrix full of zeros (Not initialized)\n",
    "    initial_mat = np.zeros((4, 1))\n",
    "\n",
    "    # Create all tip nodes\n",
    "    for i in range(num_seq):\n",
    "        # Construct the tip name\n",
    "        tip_name = f'tip{i}'\n",
    "        # Add the tip node\n",
    "        G.add_node(tip_name, matrix = initial_mat.copy())\n",
    "\n",
    "    # Create all internal nodes, starting from internal 1\n",
    "    for i in range(1, num_seq - 1, 1):\n",
    "        node_name = f'internal{i}'\n",
    "        G.add_node(node_name, matrix = initial_mat.copy())\n",
    "\n",
    "    # Add the root node\n",
    "    G.add_node(\"root\", matrix = initial_mat.copy())\n",
    "\n",
    "    return G"
   ]
  },
  {
   "cell_type": "code",
   "execution_count": 15,
   "metadata": {},
   "outputs": [
    {
     "name": "stdout",
     "output_type": "stream",
     "text": [
      "[[0.]\n",
      " [0.]\n",
      " [0.]\n",
      " [0.]]\n"
     ]
    },
    {
     "data": {
      "image/png": "[encoded data removed]",
      "text/plain": [
       "<Figure size 640x480 with 1 Axes>"
      ]
     },
     "metadata": {},
     "output_type": "display_data"
    }
   ],
   "source": [
    "# Test the init_tree() function\n",
    "my_tree = init_tree(len('CACAG'))\n",
    "print(my_tree.nodes['tip0']['matrix']) # Should output [[inf], [0], [inf], [inf]]\n",
    "# Plot the unconnected graph\n",
    "nx.draw(my_tree, with_labels=True)"
   ]
  },
  {
   "cell_type": "markdown",
   "metadata": {},
   "source": [
    "### Exercise 1: Initializing tip values"
   ]
  },
  {
   "cell_type": "markdown",
   "metadata": {},
   "source": [
    "<div style=\"color: rgb(27,94,32); background: rgb(200,230,201); border: solid 1px rgb(129,199,132); padding: 10px;\">\n",
    "\n",
    "<b>Challenge:</b> The following function should initialize a tip node for the Sankoff algorithm to 0 for the observed nucleotide and infinity (`np.inf`) for others. Try to complete it. Note that the function modifies the tree in-place and does not return a value.\n",
    "\n",
    "- [ ] Initialize observed nucleotides with cost of zero\n",
    "- [ ] initialize unobserved nucleotides with cost of infinity\n",
    "- [ ] Return None\n",
    "\n",
    "Hint:\n",
    "\n",
    "- [ ] use `idx[observed_nt]` to get the index for the nucleotide\n",
    "\n",
    "</div>"
   ]
  },
  {
   "cell_type": "code",
   "execution_count": null,
   "metadata": {
    "nbgrader": {
     "grade": false,
     "grade_id": "E1",
     "locked": false,
     "schema_version": 3,
     "solution": true,
     "task": false
    }
   },
   "outputs": [],
   "source": [
    "def init_tip(tree, tip_name, observed_nt):\n",
    "    \"\"\"\n",
    "    Intialise a tip of a tree with the correct costs.\n",
    "    At this tip node, only the observed nucleotides are possible:\n",
    "    the cost of the observed nucleotide is zero, and\n",
    "    the cost of any other nucleotide is infinity.\n",
    "    \"\"\"\n",
    "    # Get the matrix at the tip node\n",
    "    mat = tree.nodes[tip_name]['matrix']\n",
    "    # Set all costs to infinity\n",
    "    mat.fill(np.inf)\n",
    "    # Set the cost of the observed nucleotide to 0\n",
    "    mat[idx[observed_nt], 0] = 0"
   ]
  },
  {
   "cell_type": "markdown",
   "metadata": {},
   "source": [
    "<div style=\"color: rgb(27,94,32); background: rgb(200,230,201); border: solid 1px rgb(129,199,132); padding: 10px;\"></div>"
   ]
  },
  {
   "cell_type": "markdown",
   "metadata": {},
   "source": [
    "Test your function"
   ]
  },
  {
   "cell_type": "code",
   "execution_count": 17,
   "metadata": {},
   "outputs": [
    {
     "data": {
      "text/plain": [
       "array([[inf],\n",
       "       [ 0.],\n",
       "       [inf],\n",
       "       [inf]])"
      ]
     },
     "execution_count": 17,
     "metadata": {},
     "output_type": "execute_result"
    }
   ],
   "source": [
    "# The first bases of all sequences\n",
    "tip_seq = 'CACAG'\n",
    "# Initialize tip0\n",
    "tip_id = 0\n",
    "tip_name = f\"tip{tip_id}\"\n",
    "tip_base = tip_seq[tip_id]\n",
    "init_tip(my_tree, tip_name, tip_base)\n",
    "my_tree.nodes[tip_name]['matrix'] # Should output [[inf], [0], [inf], [inf]]"
   ]
  },
  {
   "cell_type": "markdown",
   "metadata": {},
   "source": [
    "Bellow code explicitly sets the tree topology. We can change the tree's structure by modifying these lines."
   ]
  },
  {
   "cell_type": "code",
   "execution_count": 18,
   "metadata": {
    "jupyter": {
     "outputs_hidden": true
    }
   },
   "outputs": [
    {
     "data": {
      "image/png": "[encoded data removed]",
      "text/plain": [
       "<Figure size 640x480 with 1 Axes>"
      ]
     },
     "metadata": {},
     "output_type": "display_data"
    }
   ],
   "source": [
    "my_tree.add_edge(\"internal1\", \"tip0\")\n",
    "my_tree.add_edge(\"internal1\", \"tip1\")\n",
    "my_tree.add_edge(\"internal2\", \"tip3\")\n",
    "my_tree.add_edge(\"internal2\", \"tip4\")\n",
    "my_tree.add_edge(\"internal3\", \"tip2\")\n",
    "my_tree.add_edge(\"internal3\", \"internal2\")\n",
    "my_tree.add_edge(\"root\", \"internal1\")\n",
    "my_tree.add_edge(\"root\", \"internal3\")\n",
    "\n",
    "# Plot the tree\n",
    "nx.draw(my_tree, with_labels=True)"
   ]
  },
  {
   "cell_type": "markdown",
   "metadata": {},
   "source": [
    "The plot might look nasty, but the structure is correct.\n",
    "\n",
    "This is because networkx defaults to 'spring_layout' when drawing graphs. These different layout methods have a huge impact on the visual interpretation of graph data. The 'spring_layout' algorithm is an optimiser which solves node coordinates by balances two forces. 1) edges attract connected nodes, and 2) nodes repel other nodes. This layout algorithm has merit for some graphs, but clearly not for binary trees!\n",
    "\n",
    "The code below replaces 'spring_layout' for a tree-specific layout algorithm. \n",
    "The best networkx layout for binary trees is graphviz_layout(Graph, prog='dot'), but requires installing pygraphviz in your environment (using using pip/conda).\n",
    "If having difficulties with this, the code will use 'bfs_layout' as a fallback.\n"
   ]
  },
  {
   "cell_type": "code",
   "execution_count": 19,
   "metadata": {},
   "outputs": [
    {
     "name": "stdout",
     "output_type": "stream",
     "text": [
      "Using bfs_layout\n"
     ]
    },
    {
     "data": {
      "image/png": "[encoded data removed]",
      "text/plain": [
       "<Figure size 600x500 with 1 Axes>"
      ]
     },
     "metadata": {},
     "output_type": "display_data"
    }
   ],
   "source": [
    "plt.figure(figsize=(6, 5))\n",
    "try:\n",
    "    pos = nx.drawing.nx_agraph.graphviz_layout(my_tree, prog='dot')\n",
    "    print(\"Using graphviz_layout(prog='dot')\")\n",
    "except ImportError:\n",
    "    pos = nx.bfs_layout(my_tree, start='root')\n",
    "    print(\"Using bfs_layout\")\n",
    "nx.draw_networkx_nodes(my_tree, pos, node_color='skyblue', node_size=2000)\n",
    "nx.draw_networkx_edges(my_tree, pos, min_target_margin=23, edge_color='gray')\n",
    "nx.draw_networkx_labels(my_tree, pos, font_size=10, font_color='black')\n",
    "plt.show()"
   ]
  },
  {
   "cell_type": "markdown",
   "metadata": {},
   "source": [
    "Following loop uses the helpful builtin function `enumerate` to initialize the tips of the tree using the function you wrote above. Double check that it is working correctly for the tip sequence you entered."
   ]
  },
  {
   "cell_type": "code",
   "execution_count": 21,
   "metadata": {},
   "outputs": [
    {
     "name": "stdout",
     "output_type": "stream",
     "text": [
      "tip0 is C, and the matrix is:\n",
      "tip0\n",
      "[[inf]\n",
      " [ 0.]\n",
      " [inf]\n",
      " [inf]]\n",
      "tip1 is A, and the matrix is:\n",
      "tip1\n",
      "[[ 0.]\n",
      " [inf]\n",
      " [inf]\n",
      " [inf]]\n",
      "tip2 is C, and the matrix is:\n",
      "tip2\n",
      "[[inf]\n",
      " [ 0.]\n",
      " [inf]\n",
      " [inf]]\n",
      "tip3 is A, and the matrix is:\n",
      "tip3\n",
      "[[ 0.]\n",
      " [inf]\n",
      " [inf]\n",
      " [inf]]\n",
      "tip4 is G, and the matrix is:\n",
      "tip4\n",
      "[[inf]\n",
      " [inf]\n",
      " [ 0.]\n",
      " [inf]]\n"
     ]
    }
   ],
   "source": [
    "for i, nt in enumerate(tip_seq):\n",
    "    tip_name = 'tip{}'.format(i)\n",
    "    init_tip(my_tree, tip_name, nt)\n",
    "    print(f\"{tip_name} is {nt}, and the matrix is:\")\n",
    "    print(tip_name)\n",
    "    print(my_tree.nodes[tip_name]['matrix'])"
   ]
  },
  {
   "cell_type": "markdown",
   "metadata": {},
   "source": [
    "## Scoring trees"
   ]
  },
  {
   "cell_type": "markdown",
   "metadata": {},
   "source": [
    "### Exercise 2: Sankoff function core calculation\n"
   ]
  },
  {
   "cell_type": "markdown",
   "metadata": {},
   "source": [
    "<div style=\"color: rgb(27,94,32); background: rgb(200,230,201); border: solid 1px rgb(129,199,132); padding: 10px;\">\n",
    "\n",
    "This function calculates the $S$ arrays for each node. It assumes that the left and right nodes have already been filled.\n",
    "\n",
    "The outer loop is looping over the four entries (ACGT) in the $S$ array. \n",
    "    \n",
    "<b>Challange:</b> Complete the function using the variables initialized and the calculation from lecture:\n",
    "\n",
    "$S_a(i) = \\min_{j}[c_{ij} + S_L(j)] + \\min_{k}[c_{ik} + S_R(k)]$\n",
    "\n",
    "As before, this function modifies the tree in place and doesn't return a value.\n",
    "\n",
    "Hint:\n",
    "\n",
    "- [ ] use `list(my_tree.successors(node_name))` to get the successors of a node\n",
    "    \n",
    "</div>"
   ]
  },
  {
   "cell_type": "code",
   "execution_count": 22,
   "metadata": {
    "jupyter": {
     "outputs_hidden": true
    },
    "nbgrader": {
     "grade": false,
     "grade_id": "E2",
     "locked": false,
     "schema_version": 3,
     "solution": true,
     "task": false
    }
   },
   "outputs": [],
   "source": [
    "def sankoff_calculate(cost_matrix, tree, node_name):\n",
    "    \"\"\"\n",
    "    For the specified node of the tree, calculate the minimum possible cost \n",
    "    for each nucleotide. \n",
    "    \"\"\"\n",
    "    # Get the matrix at the node\n",
    "    mat = tree.nodes[node_name]['matrix']\n",
    "    # Get all children of the node\n",
    "    children = list(tree.successors(node_name))\n",
    "    # For each nucleotide\n",
    "    for i in range(4):\n",
    "        # Initialize the cost for this nucleotide to 0\n",
    "        total_cost = 0\n",
    "        # For each child\n",
    "        for child in children:\n",
    "            # Get the child's matrix\n",
    "            child_mat = tree.nodes[child]['matrix']\n",
    "            # Calculate the minimum cost for this child\n",
    "            min_cost = np.min(child_mat[:, 0] + cost_matrix[i, :])\n",
    "            # Add the minimum cost to the total cost\n",
    "            total_cost += min_cost\n",
    "        # Set the total cost for this nucleotide in the matrix\n",
    "        mat[i, 0] = total_cost"
   ]
  },
  {
   "cell_type": "markdown",
   "metadata": {},
   "source": [
    "<div style=\"color: rgb(27,94,32); background: rgb(200,230,201); border: solid 1px rgb(129,199,132); padding: 10px;\"></div>"
   ]
  },
  {
   "cell_type": "markdown",
   "metadata": {},
   "source": [
    "Since the `sankoff_calculate` function requires that the left and right nodes be populated, we will perform a recursive traversal. "
   ]
  },
  {
   "cell_type": "code",
   "execution_count": 23,
   "metadata": {},
   "outputs": [],
   "source": [
    "def sankoff_traverse(c_matrix, tree, node_name):\n",
    "    \"\"\"\n",
    "    Traverse the tree recursively, calculating costs for each node.\n",
    "    Calculate a node's children before the node itself.\n",
    "    This function depends on correctly initialising the costs in the tips\n",
    "    of the tree before traversing the tree.\n",
    "    \"\"\"\n",
    "    children = list(tree.successors(node_name))\n",
    "    if len(children) <= 0:\n",
    "        return None\n",
    "    if len(children) != 2:\n",
    "        raise Exception(\"Incorrect binary tree\")\n",
    "    left_node = children[0]\n",
    "    right_node = children[1]\n",
    "    # Traverse left and right node\n",
    "    sankoff_traverse(c_matrix, tree, left_node)\n",
    "    sankoff_traverse(c_matrix, tree, right_node)\n",
    "    sankoff_calculate(c_matrix, tree, node_name)"
   ]
  },
  {
   "cell_type": "code",
   "execution_count": 24,
   "metadata": {},
   "outputs": [],
   "source": [
    "sankoff_traverse(cost_mat, my_tree, 'root')"
   ]
  },
  {
   "cell_type": "markdown",
   "metadata": {},
   "source": [
    "Finally, we can print the result of the root node."
   ]
  },
  {
   "cell_type": "code",
   "execution_count": 25,
   "metadata": {},
   "outputs": [
    {
     "data": {
      "text/plain": [
       "array([[6.],\n",
       "       [6.],\n",
       "       [7.],\n",
       "       [8.]])"
      ]
     },
     "execution_count": 25,
     "metadata": {},
     "output_type": "execute_result"
    }
   ],
   "source": [
    "my_tree.nodes[\"root\"]['matrix']"
   ]
  },
  {
   "cell_type": "markdown",
   "metadata": {},
   "source": [
    "Finding the minimum cost"
   ]
  },
  {
   "cell_type": "code",
   "execution_count": 26,
   "metadata": {
    "nbgrader": {
     "grade": false,
     "grade_id": "E3",
     "locked": false,
     "schema_version": 3,
     "solution": true,
     "task": false
    }
   },
   "outputs": [
    {
     "name": "stdout",
     "output_type": "stream",
     "text": [
      "Minimum cost is 6.0 for C and A\n"
     ]
    }
   ],
   "source": [
    "root_mat = my_tree.nodes[\"root\"]['matrix']\n",
    "\n",
    "min_cost = root_mat.min()\n",
    "min_locs = np.where(root_mat == min_cost)\n",
    "\n",
    "min_nts = []\n",
    "for loc in min_locs:\n",
    "    min_nts.append(CHARACTERS[loc[1]])\n",
    "\n",
    "print(\"Minimum cost is {} for {}\".format(min_cost, \" and \".join(min_nts)))"
   ]
  },
  {
   "cell_type": "markdown",
   "metadata": {},
   "source": [
    "## Extension: Maximum Parsimony\n",
    "\n",
    "The material above uses Sankoff to score a single column of an input MSA for a predefined tree structure. In this section you will extend this to Maximum Parsimony by using a full MSA and scoring multiple trees. \n",
    "\n",
    "Your task is to identify which of the following trees is best at explaining the observed organism sequences (the MSA). \n"
   ]
  },
  {
   "cell_type": "code",
   "execution_count": 30,
   "metadata": {},
   "outputs": [
    {
     "data": {
      "image/png": "[encoded data removed]",
      "text/plain": [
       "<Figure size 900x300 with 3 Axes>"
      ]
     },
     "metadata": {},
     "output_type": "display_data"
    }
   ],
   "source": [
    "MSA = {\n",
    "    'seq_A': 'GATTACA',\n",
    "    'seq_B': 'GA-TAGC',\n",
    "    'seq_C': 'GA-AAGC',\n",
    "}\n",
    "\n",
    "tree1 = nx.DiGraph()\n",
    "tree1.add_edge('root', 'seq_A')\n",
    "tree1.add_edge('root', 'int1')\n",
    "tree1.add_edge('int1', 'seq_B')\n",
    "tree1.add_edge('int1', 'seq_C')\n",
    "\n",
    "tree2 = nx.DiGraph()\n",
    "tree2.add_edge('root', 'seq_B')\n",
    "tree2.add_edge('root', 'int1')\n",
    "tree2.add_edge('int1', 'seq_A')\n",
    "tree2.add_edge('int1', 'seq_C')\n",
    "\n",
    "tree3 = nx.DiGraph()\n",
    "tree3.add_edge('root', 'seq_C')\n",
    "tree3.add_edge('root', 'int1')\n",
    "tree3.add_edge('int1', 'seq_A')\n",
    "tree3.add_edge('int1', 'seq_B')\n",
    "\n",
    "all_labels = ['tree1', 'tree2', 'tree3']\n",
    "all_trees = [tree1, tree2, tree3]\n",
    "\n",
    "fig, axes = plt.subplots(nrows=1, ncols=3, figsize=(9, 3))\n",
    "for ax, label, the_tree in zip(axes, all_labels, all_trees):\n",
    "    pos = nx.bfs_layout(the_tree, start='root')\n",
    "    nx.draw_networkx_nodes(the_tree, pos, node_color='skyblue', node_size=1000, ax=ax)\n",
    "    nx.draw_networkx_edges(the_tree, pos, min_target_margin=16, edge_color='gray', ax=ax)\n",
    "    nx.draw_networkx_labels(the_tree, pos, font_size=10, font_color='black', ax=ax)\n",
    "    # networkx is annoying - sometimes nodes are partially off the canvas. This handles it. \n",
    "    ax.set_xlim([1.3*x for x in ax.get_xlim()])\n",
    "    ax.set_ylim([1.3*y for y in ax.get_ylim()])\n",
    "    ax.set_title(label)\n",
    "\n",
    "plt.tight_layout()\n",
    "plt.show()"
   ]
  },
  {
   "cell_type": "markdown",
   "metadata": {},
   "source": [
    "<div style=\"color: rgb(27,94,32); background: rgb(200,230,201); border: solid 1px rgb(129,199,132); padding: 10px;\">\n",
    "   \n",
    "<b>Challenge</b>: Calculate the Parsimony Length ***L(T)*** of a given tree for the full MSA. \n",
    "\n",
    "Use your previously defined `init_tip` and `sankoff_traverse()` functions. \n",
    "\n",
    "New considerations\n",
    "- The parsimony length of a given tree using a full MSA, *L(T)* is the sum of individual Sankoff scores (one per MSA column). \n",
    "- As there are 7 columns of the MSA, you can either:\n",
    "    - Generalise the (4, 1) numpy array to (4, 7) to account for all MSA columns.\n",
    "    - Run `init_tip` and `sankoff_traverse()` 7 times using the current approach. <br>\n",
    "- For each MSA column, make sure to extract the minimum cost of the root node and sum to return the full ***L(T)***. \n",
    "\n",
    "</div>"
   ]
  },
  {
   "cell_type": "code",
   "execution_count": 31,
   "metadata": {},
   "outputs": [],
   "source": [
    "def calculate_tree_parsimony(msa: dict, tree: nx.DiGraph) -> float:\n",
    "    \"\"\"\n",
    "    Given a multiple sequence alignment (MSA) and a tree,\n",
    "    calculate the parsimony score of the tree using the Sankoff algorithm.\n",
    "    \"\"\"\n",
    "    num_seq = len(msa)\n",
    "    # Initialize the tree with the correct number of tips\n",
    "    sankoff_tree = init_tree(num_seq)\n",
    "\n",
    "    # Add edges from the input tree to the sankoff_tree\n",
    "    for u, v in tree.edges():\n",
    "        sankoff_tree.add_edge(u, v)\n",
    "\n",
    "    # Initialize all tips with the correct observed nucleotides\n",
    "    for i, (name, seq) in enumerate(msa.items()):\n",
    "        tip_name = f'tip{i}'\n",
    "        observed_nt = seq[0]  # First column of the MSA\n",
    "        init_tip(sankoff_tree, tip_name, observed_nt)\n",
    "\n",
    "    # Perform Sankoff traversal to calculate costs\n",
    "    for i, (name, seq) in enumerate(msa.items()):\n",
    "        sankoff_traverse(cost_mat, sankoff_tree, 'root')\n",
    "\n",
    "    # Get the root matrix and find the minimum cost\n",
    "    root_mat = sankoff_tree.nodes['root']['matrix']\n",
    "    min_cost = root_mat.min()\n",
    "\n",
    "    return min_cost\n"
   ]
  },
  {
   "cell_type": "markdown",
   "metadata": {},
   "source": [
    "You can now use your `calculate_tree_parsimony()` function above to assess each tree and identify the best. "
   ]
  },
  {
   "cell_type": "code",
   "execution_count": 32,
   "metadata": {},
   "outputs": [
    {
     "ename": "KeyError",
     "evalue": "'matrix'",
     "output_type": "error",
     "traceback": [
      "\u001b[31m---------------------------------------------------------------------------\u001b[39m",
      "\u001b[31mKeyError\u001b[39m                                  Traceback (most recent call last)",
      "\u001b[36mCell\u001b[39m\u001b[36m \u001b[39m\u001b[32mIn[32]\u001b[39m\u001b[32m, line 6\u001b[39m\n\u001b[32m      3\u001b[39m all_scores = []\n\u001b[32m      5\u001b[39m \u001b[38;5;28;01mfor\u001b[39;00m label, the_tree \u001b[38;5;129;01min\u001b[39;00m \u001b[38;5;28mzip\u001b[39m(all_labels, all_trees):\n\u001b[32m----> \u001b[39m\u001b[32m6\u001b[39m     score = calculate_tree_parsimony(MSA, the_tree)\n\u001b[32m      7\u001b[39m     all_scores.append(score)\n\u001b[32m      8\u001b[39m     \u001b[38;5;28mprint\u001b[39m(\u001b[33mf\u001b[39m\u001b[33m\"\u001b[39m\u001b[33mParsimony score for \u001b[39m\u001b[38;5;132;01m{\u001b[39;00mlabel\u001b[38;5;132;01m}\u001b[39;00m\u001b[33m: \u001b[39m\u001b[38;5;132;01m{\u001b[39;00mscore\u001b[38;5;132;01m}\u001b[39;00m\u001b[33m\"\u001b[39m)\n",
      "\u001b[36mCell\u001b[39m\u001b[36m \u001b[39m\u001b[32mIn[31]\u001b[39m\u001b[32m, line 22\u001b[39m, in \u001b[36mcalculate_tree_parsimony\u001b[39m\u001b[34m(msa, tree)\u001b[39m\n\u001b[32m     20\u001b[39m \u001b[38;5;66;03m# Perform Sankoff traversal to calculate costs\u001b[39;00m\n\u001b[32m     21\u001b[39m \u001b[38;5;28;01mfor\u001b[39;00m i, (name, seq) \u001b[38;5;129;01min\u001b[39;00m \u001b[38;5;28menumerate\u001b[39m(msa.items()):\n\u001b[32m---> \u001b[39m\u001b[32m22\u001b[39m     sankoff_traverse(cost_mat, sankoff_tree, \u001b[33m'\u001b[39m\u001b[33mroot\u001b[39m\u001b[33m'\u001b[39m)\n\u001b[32m     24\u001b[39m \u001b[38;5;66;03m# Get the root matrix and find the minimum cost\u001b[39;00m\n\u001b[32m     25\u001b[39m root_mat = sankoff_tree.nodes[\u001b[33m'\u001b[39m\u001b[33mroot\u001b[39m\u001b[33m'\u001b[39m][\u001b[33m'\u001b[39m\u001b[33mmatrix\u001b[39m\u001b[33m'\u001b[39m]\n",
      "\u001b[36mCell\u001b[39m\u001b[36m \u001b[39m\u001b[32mIn[23]\u001b[39m\u001b[32m, line 17\u001b[39m, in \u001b[36msankoff_traverse\u001b[39m\u001b[34m(c_matrix, tree, node_name)\u001b[39m\n\u001b[32m     15\u001b[39m \u001b[38;5;66;03m# Traverse left and right node\u001b[39;00m\n\u001b[32m     16\u001b[39m sankoff_traverse(c_matrix, tree, left_node)\n\u001b[32m---> \u001b[39m\u001b[32m17\u001b[39m sankoff_traverse(c_matrix, tree, right_node)\n\u001b[32m     18\u001b[39m sankoff_calculate(c_matrix, tree, node_name)\n",
      "\u001b[36mCell\u001b[39m\u001b[36m \u001b[39m\u001b[32mIn[23]\u001b[39m\u001b[32m, line 18\u001b[39m, in \u001b[36msankoff_traverse\u001b[39m\u001b[34m(c_matrix, tree, node_name)\u001b[39m\n\u001b[32m     16\u001b[39m sankoff_traverse(c_matrix, tree, left_node)\n\u001b[32m     17\u001b[39m sankoff_traverse(c_matrix, tree, right_node)\n\u001b[32m---> \u001b[39m\u001b[32m18\u001b[39m sankoff_calculate(c_matrix, tree, node_name)\n",
      "\u001b[36mCell\u001b[39m\u001b[36m \u001b[39m\u001b[32mIn[22]\u001b[39m\u001b[32m, line 7\u001b[39m, in \u001b[36msankoff_calculate\u001b[39m\u001b[34m(cost_matrix, tree, node_name)\u001b[39m\n\u001b[32m      2\u001b[39m \u001b[38;5;250m\u001b[39m\u001b[33;03m\"\"\"\u001b[39;00m\n\u001b[32m      3\u001b[39m \u001b[33;03mFor the specified node of the tree, calculate the minimum possible cost \u001b[39;00m\n\u001b[32m      4\u001b[39m \u001b[33;03mfor each nucleotide. \u001b[39;00m\n\u001b[32m      5\u001b[39m \u001b[33;03m\"\"\"\u001b[39;00m\n\u001b[32m      6\u001b[39m \u001b[38;5;66;03m# Get the matrix at the node\u001b[39;00m\n\u001b[32m----> \u001b[39m\u001b[32m7\u001b[39m mat = tree.nodes[node_name][\u001b[33m'\u001b[39m\u001b[33mmatrix\u001b[39m\u001b[33m'\u001b[39m]\n\u001b[32m      8\u001b[39m \u001b[38;5;66;03m# Get all children of the node\u001b[39;00m\n\u001b[32m      9\u001b[39m children = \u001b[38;5;28mlist\u001b[39m(tree.successors(node_name))\n",
      "\u001b[31mKeyError\u001b[39m: 'matrix'"
     ]
    }
   ],
   "source": [
    "all_trees = [tree1, tree2, tree3]\n",
    "all_labels = ['tree1', 'tree2', 'tree3']\n",
    "all_scores = []\n",
    "\n",
    "for label, the_tree in zip(all_labels, all_trees):\n",
    "    score = calculate_tree_parsimony(MSA, the_tree)\n",
    "    all_scores.append(score)\n",
    "    print(f\"Parsimony score for {label}: {score}\")"
   ]
  }
 ],
 "metadata": {
  "celltoolbar": "Create Assignment",
  "kernelspec": {
   "display_name": "algorithms-a1",
   "language": "python",
   "name": "python3"
  },
  "language_info": {
   "codemirror_mode": {
    "name": "ipython",
    "version": 3
   },
   "file_extension": ".py",
   "mimetype": "text/x-python",
   "name": "python",
   "nbconvert_exporter": "python",
   "pygments_lexer": "ipython3",
   "version": "3.13.5"
  }
 },
 "nbformat": 4,
 "nbformat_minor": 4
}
