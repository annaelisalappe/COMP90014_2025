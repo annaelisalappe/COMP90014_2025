{
 "cells": [
  {
   "cell_type": "markdown",
   "metadata": {},
   "source": [
    "# Week 5 - Trees and Sankoff"
   ]
  },
  {
   "cell_type": "markdown",
   "metadata": {},
   "source": [
    "<div style=\"color: rgb(27,94,32); background: rgb(200,230,201); border: solid 1px rgb(129,199,132); padding: 10px;\">\n",
    "\n",
    "This week we'll implement the Sankoff algorithm as seen in the Week4 lecture. This is a good introduction to programming with phylogenetic trees and NetworkX package.\n",
    "    \n",
    "</div>"
   ]
  },
  {
   "cell_type": "markdown",
   "metadata": {},
   "source": [
    "## Setup"
   ]
  },
  {
   "cell_type": "markdown",
   "metadata": {},
   "source": [
    "Make sure you have `python >= 3.10`. Check using `python --version` or `python3 --version`.\n",
    "\n",
    "**Week 5 packages**\n",
    "\n",
    "This week we will use:\n",
    "- networkx\n",
    "- ipykernel\n",
    "- matplotlib"
   ]
  },
  {
   "cell_type": "code",
   "execution_count": null,
   "metadata": {},
   "outputs": [],
   "source": [
    "# Import Necessary Packages\n",
    "import networkx as nx\n",
    "import numpy as np\n",
    "import matplotlib.pyplot as plt"
   ]
  },
  {
   "cell_type": "markdown",
   "metadata": {},
   "source": [
    "## Building Trees"
   ]
  },
  {
   "cell_type": "markdown",
   "metadata": {},
   "source": [
    "### Introduction to NetworkX Package\n",
    "\n",
    "\"NetworkX is a Python package for the creation, manipulation, and study of the structure, dynamics, and functions of complex networks.\"\n",
    "\n",
    "Official tutorials can be found in this [link](https://networkx.org/documentation/stable/tutorial.html)."
   ]
  },
  {
   "cell_type": "markdown",
   "metadata": {},
   "source": [
    "Create an empty directed graph with no nodes and no edges (as trees are a special directed graph):"
   ]
  },
  {
   "cell_type": "code",
   "execution_count": null,
   "metadata": {},
   "outputs": [],
   "source": [
    "# Directed graph\n",
    "G = nx.DiGraph()\n",
    "G"
   ]
  },
  {
   "cell_type": "markdown",
   "metadata": {},
   "source": [
    "You can add nodes to a graph using a list (or an iterator)."
   ]
  },
  {
   "cell_type": "code",
   "execution_count": null,
   "metadata": {},
   "outputs": [],
   "source": [
    "G.add_node(1)\n",
    "G.add_nodes_from([2, 3])"
   ]
  },
  {
   "cell_type": "markdown",
   "metadata": {},
   "source": [
    "You can also store attributes inside nodes"
   ]
  },
  {
   "cell_type": "code",
   "execution_count": null,
   "metadata": {},
   "outputs": [],
   "source": [
    "# Add a node 4, and store a matrix in that node\n",
    "G.add_node(4, matrix = np.zeros(shape = (4, 4)))\n",
    "# Get the matrix in node 4\n",
    "G.nodes[4]['matrix']"
   ]
  },
  {
   "cell_type": "markdown",
   "metadata": {},
   "source": [
    "**Note:** The matrix is a reference. You can assign the reference (pointer) to a new variable, and modify the actual matrix in the graph."
   ]
  },
  {
   "cell_type": "code",
   "execution_count": null,
   "metadata": {},
   "outputs": [],
   "source": [
    "mat_4 = G.nodes[4]['matrix']\n",
    "mat_4[0, 0] = 1\n",
    "G.nodes[4]['matrix']"
   ]
  },
  {
   "cell_type": "markdown",
   "metadata": {},
   "source": [
    "Edges can be added one at a time."
   ]
  },
  {
   "cell_type": "code",
   "execution_count": null,
   "metadata": {},
   "outputs": [],
   "source": [
    "G.add_edge(1, 2)"
   ]
  },
  {
   "cell_type": "markdown",
   "metadata": {},
   "source": [
    "We can check the elements of a graph using the following:"
   ]
  },
  {
   "cell_type": "code",
   "execution_count": null,
   "metadata": {},
   "outputs": [],
   "source": [
    "# Get all nodes in graph G\n",
    "list(G.nodes)"
   ]
  },
  {
   "cell_type": "code",
   "execution_count": null,
   "metadata": {},
   "outputs": [],
   "source": [
    "# Get all edges in graph G\n",
    "list(G.edges)"
   ]
  },
  {
   "cell_type": "code",
   "execution_count": null,
   "metadata": {},
   "outputs": [],
   "source": [
    "# Get all successsors (children) of node 1\n",
    "list(G.successors(1))"
   ]
  },
  {
   "cell_type": "markdown",
   "metadata": {},
   "source": [
    "### Creating the substitution matrix\n",
    "First, we will create the $c_{ij}$ matrix that contains the substitution scores. As we saw in lecture, the score for no change is 0, the score for a trasition is 1.0 and the score for a transversion is 2.5.\n",
    "\n",
    "We could hard code this since it's only 4x4 but here is some code that will build the matrix as a numpy matrix. The nuclei to integer index mapping are hard coded as a dictionary."
   ]
  },
  {
   "cell_type": "code",
   "execution_count": null,
   "metadata": {
    "jupyter": {
     "outputs_hidden": true
    }
   },
   "outputs": [],
   "source": [
    "# Define nucleotides and index mapping\n",
    "CHARACTERS = [\"A\", \"C\", \"G\", \"T\"]\n",
    "idx = {nt:i for i,nt in enumerate(CHARACTERS)}\n",
    "\n",
    "# Build cost matrix (default = 2.5, transitions = 1, identity = 0)\n",
    "cost_mat = np.full((4,4), 2.5)\n",
    "cost_mat[idx['A'], idx['G']] = cost_mat[idx['G'], idx['A']] = 1.0\n",
    "cost_mat[idx['C'], idx['T']] = cost_mat[idx['T'], idx['C']] = 1.0\n",
    "np.fill_diagonal(cost_mat, 0.0)\n",
    "\n",
    "\n",
    "print(\"The Cost Matrix:\")\n",
    "print(cost_mat)"
   ]
  },
  {
   "cell_type": "markdown",
   "metadata": {},
   "source": [
    "In practical terms, this allows us to easily get a specific $c_{ij}$ value using matrix indices, which improves code readability and have optimal performance."
   ]
  },
  {
   "cell_type": "code",
   "execution_count": null,
   "metadata": {},
   "outputs": [],
   "source": [
    "print(\"The cost of A to C is:\", cost_mat[idx['A'], idx['C']])"
   ]
  },
  {
   "cell_type": "markdown",
   "metadata": {},
   "source": [
    "### Initializing the tree\n",
    "\n",
    "We will also implement the tree as a directed NetworksX graph. The node names are tips, internals, or root. Tree branches are stored as directed edges in the graph object. The value matrix is stored in each node as an attribute.\n",
    "\n",
    "The following function creates an empty directed graph object (or a tree) suitable for running the Sankoff algorithm on DNA data with the correct number of nodes given a number of tips."
   ]
  },
  {
   "cell_type": "code",
   "execution_count": null,
   "metadata": {
    "jupyter": {
     "outputs_hidden": true
    }
   },
   "outputs": [],
   "source": [
    "def init_tree(num_seq):\n",
    "    \"\"\"\n",
    "    Create an empty tree with the tip initialized.\n",
    "    The tree is not connected, but the number of nodes is correct\n",
    "    \"\"\"\n",
    "    G = nx.DiGraph()\n",
    "    # Create a matrix full of zeros (Not initialized)\n",
    "    initial_mat = np.zeros((4, 1))\n",
    "\n",
    "    # Create all tip nodes\n",
    "    for i in range(num_seq):\n",
    "        # Construct the tip name\n",
    "        tip_name = f'tip{i}'\n",
    "        # Add the tip node\n",
    "        G.add_node(tip_name, matrix = initial_mat.copy())\n",
    "\n",
    "    # Create all internal nodes, starting from internal 1\n",
    "    for i in range(1, num_seq - 1, 1):\n",
    "        node_name = f'internal{i}'\n",
    "        G.add_node(node_name, matrix = initial_mat.copy())\n",
    "\n",
    "    # Add the root node\n",
    "    G.add_node(\"root\", matrix = initial_mat.copy())\n",
    "\n",
    "    return G"
   ]
  },
  {
   "cell_type": "code",
   "execution_count": null,
   "metadata": {},
   "outputs": [],
   "source": [
    "# Test the init_tree() function\n",
    "my_tree = init_tree(len('CACAG'))\n",
    "print(my_tree.nodes['tip0']['matrix']) # Should output [[inf], [0], [inf], [inf]]\n",
    "# Plot the unconnected graph\n",
    "nx.draw(my_tree, with_labels=True)"
   ]
  },
  {
   "cell_type": "markdown",
   "metadata": {},
   "source": [
    "### Exercise 1: Initializing tip values"
   ]
  },
  {
   "cell_type": "markdown",
   "metadata": {},
   "source": [
    "<div style=\"color: rgb(27,94,32); background: rgb(200,230,201); border: solid 1px rgb(129,199,132); padding: 10px;\">\n",
    "\n",
    "<b>Challenge:</b> The following function should initialize a tip node for the Sankoff algorithm to 0 for the observed nucleotide and infinity (`np.inf`) for others. Try to complete it. Note that the function modifies the tree in-place and does not return a value.\n",
    "\n",
    "- [ ] Initialize observed nucleotides with cost of zero\n",
    "- [ ] initialize unobserved nucleotides with cost of infinity\n",
    "- [ ] Return None\n",
    "\n",
    "Hint:\n",
    "\n",
    "- [ ] use `idx[observed_nt]` to get the index for the nucleotide\n",
    "\n",
    "</div>"
   ]
  },
  {
   "cell_type": "code",
   "execution_count": null,
   "metadata": {
    "nbgrader": {
     "grade": false,
     "grade_id": "E1",
     "locked": false,
     "schema_version": 3,
     "solution": true,
     "task": false
    }
   },
   "outputs": [],
   "source": [
    "def init_tip(tree, tip_name, observed_nt):\n",
    "    \"\"\"\n",
    "    Intialise a tip of a tree with the correct costs.\n",
    "    At this tip node, only the observed nucleotides are possible:\n",
    "    the cost of the observed nucleotide is zero, and\n",
    "    the cost of any other nucleotide is infinity.\n",
    "    \"\"\"\n",
    "    # YOUR CODE HERE\n",
    "    raise NotImplementedError"
   ]
  },
  {
   "cell_type": "markdown",
   "metadata": {},
   "source": [
    "<div style=\"color: rgb(27,94,32); background: rgb(200,230,201); border: solid 1px rgb(129,199,132); padding: 10px;\"></div>"
   ]
  },
  {
   "cell_type": "markdown",
   "metadata": {},
   "source": [
    "Test your function"
   ]
  },
  {
   "cell_type": "code",
   "execution_count": null,
   "metadata": {},
   "outputs": [],
   "source": [
    "# The first bases of all sequences\n",
    "tip_seq = 'CACAG'\n",
    "# Initialize tip0\n",
    "tip_id = 0\n",
    "tip_name = f\"tip{tip_id}\"\n",
    "tip_base = tip_seq[tip_id]\n",
    "init_tip(my_tree, tip_name, tip_base)\n",
    "my_tree.nodes[tip_name]['matrix'] # Should output [[inf], [0], [inf], [inf]]"
   ]
  },
  {
   "cell_type": "markdown",
   "metadata": {},
   "source": [
    "Bellow code explicitly sets the tree topology. We can change the tree's structure by modifying these lines."
   ]
  },
  {
   "cell_type": "code",
   "execution_count": null,
   "metadata": {
    "jupyter": {
     "outputs_hidden": true
    }
   },
   "outputs": [],
   "source": [
    "my_tree.add_edge(\"internal1\", \"tip0\")\n",
    "my_tree.add_edge(\"internal1\", \"tip1\")\n",
    "my_tree.add_edge(\"internal2\", \"tip3\")\n",
    "my_tree.add_edge(\"internal2\", \"tip4\")\n",
    "my_tree.add_edge(\"internal3\", \"tip2\")\n",
    "my_tree.add_edge(\"internal3\", \"internal2\")\n",
    "my_tree.add_edge(\"root\", \"internal1\")\n",
    "my_tree.add_edge(\"root\", \"internal3\")\n",
    "\n",
    "# Plot the tree\n",
    "nx.draw(my_tree, with_labels=True)"
   ]
  },
  {
   "cell_type": "markdown",
   "metadata": {},
   "source": [
    "The plot might look nasty, but the structure is correct.\n",
    "\n",
    "This is because networkx defaults to 'spring_layout' when drawing graphs. These different layout methods have a huge impact on the visual interpretation of graph data. The 'spring_layout' algorithm is an optimiser which solves node coordinates by balances two forces. 1) edges attract connected nodes, and 2) nodes repel other nodes. This layout algorithm has merit for some graphs, but clearly not for binary trees!\n",
    "\n",
    "The code below replaces 'spring_layout' for a tree-specific layout algorithm. \n",
    "The best networkx layout for binary trees is graphviz_layout(Graph, prog='dot'), but requires installing pygraphviz in your environment (using using pip/conda).\n",
    "If having difficulties with this, the code will use 'bfs_layout' as a fallback.\n"
   ]
  },
  {
   "cell_type": "code",
   "execution_count": null,
   "metadata": {},
   "outputs": [],
   "source": [
    "plt.figure(figsize=(6, 5))\n",
    "try:\n",
    "    pos = nx.drawing.nx_agraph.graphviz_layout(my_tree, prog='dot')\n",
    "    print(\"Using graphviz_layout(prog='dot')\")\n",
    "except ImportError:\n",
    "    pos = nx.bfs_layout(my_tree, start='root')\n",
    "    print(\"Using bfs_layout\")\n",
    "nx.draw_networkx_nodes(my_tree, pos, node_color='skyblue', node_size=2000)\n",
    "nx.draw_networkx_edges(my_tree, pos, min_target_margin=23, edge_color='gray')\n",
    "nx.draw_networkx_labels(my_tree, pos, font_size=10, font_color='black')\n",
    "plt.show()"
   ]
  },
  {
   "cell_type": "markdown",
   "metadata": {},
   "source": [
    "Following loop uses the helpful builtin function `enumerate` to initialize the tips of the tree using the function you wrote above. Double check that it is working correctly for the tip sequence you entered."
   ]
  },
  {
   "cell_type": "code",
   "execution_count": null,
   "metadata": {},
   "outputs": [],
   "source": [
    "for i, nt in enumerate(tip_seq):\n",
    "    tip_name = 'tip{}'.format(i)\n",
    "    init_tip(my_tree, tip_name, nt)\n",
    "    print(f\"{tip_name} is {nt}, and the matrix is:\")\n",
    "    print(tip_name)\n",
    "    print(my_tree.nodes[tip_name]['matrix'])"
   ]
  },
  {
   "cell_type": "markdown",
   "metadata": {},
   "source": [
    "## Scoring trees"
   ]
  },
  {
   "cell_type": "markdown",
   "metadata": {},
   "source": [
    "### Exercise 2: Sankoff function core calculation\n"
   ]
  },
  {
   "cell_type": "markdown",
   "metadata": {},
   "source": [
    "<div style=\"color: rgb(27,94,32); background: rgb(200,230,201); border: solid 1px rgb(129,199,132); padding: 10px;\">\n",
    "\n",
    "This function calculates the $S$ arrays for each node. It assumes that the left and right nodes have already been filled.\n",
    "\n",
    "The outer loop is looping over the four entries (ACGT) in the $S$ array. \n",
    "    \n",
    "<b>Challange:</b> Complete the function using the variables initialized and the calculation from lecture:\n",
    "\n",
    "$S_a(i) = \\min_{j}[c_{ij} + S_L(j)] + \\min_{k}[c_{ik} + S_R(k)]$\n",
    "\n",
    "As before, this function modifies the tree in place and doesn't return a value.\n",
    "\n",
    "Hint:\n",
    "\n",
    "- [ ] use `list(my_tree.successors(node_name))` to get the successors of a node\n",
    "    \n",
    "</div>"
   ]
  },
  {
   "cell_type": "code",
   "execution_count": null,
   "metadata": {
    "jupyter": {
     "outputs_hidden": true
    },
    "nbgrader": {
     "grade": false,
     "grade_id": "E2",
     "locked": false,
     "schema_version": 3,
     "solution": true,
     "task": false
    }
   },
   "outputs": [],
   "source": [
    "def sankoff_calculate(cost_matrix, tree, node_name):\n",
    "    \"\"\"\n",
    "    For the specified node of the tree, calculate the minimum possible cost \n",
    "    for each nucleotide. \n",
    "    \"\"\"\n",
    "\n",
    "    # YOUR CODE HERE\n",
    "    raise NotImplementedError"
   ]
  },
  {
   "cell_type": "markdown",
   "metadata": {},
   "source": [
    "<div style=\"color: rgb(27,94,32); background: rgb(200,230,201); border: solid 1px rgb(129,199,132); padding: 10px;\"></div>"
   ]
  },
  {
   "cell_type": "markdown",
   "metadata": {},
   "source": [
    "Since the `sankoff_calculate` function requires that the left and right nodes be populated, we will perform a recursive traversal. "
   ]
  },
  {
   "cell_type": "code",
   "execution_count": null,
   "metadata": {},
   "outputs": [],
   "source": [
    "def sankoff_traverse(c_matrix, tree, node_name):\n",
    "    \"\"\"\n",
    "    Traverse the tree recursively, calculating costs for each node.\n",
    "    Calculate a node's children before the node itself.\n",
    "    This function depends on correctly initialising the costs in the tips\n",
    "    of the tree before traversing the tree.\n",
    "    \"\"\"\n",
    "    children = list(tree.successors(node_name))\n",
    "    if len(children) <= 0:\n",
    "        return None\n",
    "    if len(children) != 2:\n",
    "        raise Exception(\"Incorrect binary tree\")\n",
    "    left_node = children[0]\n",
    "    right_node = children[1]\n",
    "    # Traverse left and right node\n",
    "    sankoff_traverse(c_matrix, tree, left_node)\n",
    "    sankoff_traverse(c_matrix, tree, right_node)\n",
    "    sankoff_calculate(c_matrix, tree, node_name)"
   ]
  },
  {
   "cell_type": "code",
   "execution_count": null,
   "metadata": {},
   "outputs": [],
   "source": [
    "sankoff_traverse(cost_mat, my_tree, 'root')"
   ]
  },
  {
   "cell_type": "markdown",
   "metadata": {},
   "source": [
    "Finally, we can print the result of the root node."
   ]
  },
  {
   "cell_type": "code",
   "execution_count": null,
   "metadata": {},
   "outputs": [],
   "source": [
    "my_tree.nodes[\"root\"]['matrix']"
   ]
  },
  {
   "cell_type": "markdown",
   "metadata": {},
   "source": [
    "Finding the minimum cost"
   ]
  },
  {
   "cell_type": "code",
   "execution_count": null,
   "metadata": {
    "nbgrader": {
     "grade": false,
     "grade_id": "E3",
     "locked": false,
     "schema_version": 3,
     "solution": true,
     "task": false
    }
   },
   "outputs": [],
   "source": [
    "root_mat = my_tree.nodes[\"root\"]['matrix']\n",
    "\n",
    "min_cost = root_mat.min()\n",
    "min_locs = np.where(root_mat == min_cost)\n",
    "\n",
    "min_nts = []\n",
    "for loc in min_locs:\n",
    "    min_nts.append(CHARACTERS[loc[1]])\n",
    "\n",
    "print(\"Minimum cost is {} for {}\".format(min_cost, \" and \".join(min_nts)))"
   ]
  },
  {
   "cell_type": "markdown",
   "metadata": {},
   "source": [
    "## Extension: Maximum Parsimony\n",
    "\n",
    "The material above uses Sankoff to score a single column of an input MSA for a predefined tree structure. In this section you will extend this to Maximum Parsimony by using a full MSA and scoring multiple trees. \n",
    "\n",
    "Your task is to identify which of the following trees is best at explaining the observed organism sequences (the MSA). \n"
   ]
  },
  {
   "cell_type": "code",
   "execution_count": null,
   "metadata": {},
   "outputs": [
    {
     "data": {
      "image/png": "[encoded data removed]",
      "text/plain": [
       "<Figure size 900x300 with 3 Axes>"
      ]
     },
     "metadata": {},
     "output_type": "display_data"
    }
   ],
   "source": [
    "MSA = {\n",
    "    'seq_A': 'GATTACA',\n",
    "    'seq_B': 'GA-TAGC',\n",
    "    'seq_C': 'GA-AAGC',\n",
    "}\n",
    "\n",
    "tree1 = nx.DiGraph()\n",
    "tree1.add_edge('root', 'seq_A')\n",
    "tree1.add_edge('root', 'int1')\n",
    "tree1.add_edge('int1', 'seq_B')\n",
    "tree1.add_edge('int1', 'seq_C')\n",
    "\n",
    "tree2 = nx.DiGraph()\n",
    "tree2.add_edge('root', 'seq_B')\n",
    "tree2.add_edge('root', 'int1')\n",
    "tree2.add_edge('int1', 'seq_A')\n",
    "tree2.add_edge('int1', 'seq_C')\n",
    "\n",
    "tree3 = nx.DiGraph()\n",
    "tree3.add_edge('root', 'seq_C')\n",
    "tree3.add_edge('root', 'int1')\n",
    "tree3.add_edge('int1', 'seq_A')\n",
    "tree3.add_edge('int1', 'seq_B')\n",
    "\n",
    "all_labels = ['tree1', 'tree2', 'tree3']\n",
    "all_trees = [tree1, tree2, tree3]\n",
    "\n",
    "fig, axes = plt.subplots(nrows=1, ncols=3, figsize=(9, 3))\n",
    "for ax, label, the_tree in zip(axes, all_labels, all_trees):\n",
    "    pos = nx.bfs_layout(the_tree, start='root')\n",
    "    nx.draw_networkx_nodes(the_tree, pos, node_color='skyblue', node_size=1000, ax=ax)\n",
    "    nx.draw_networkx_edges(the_tree, pos, min_target_margin=16, edge_color='gray', ax=ax)\n",
    "    nx.draw_networkx_labels(the_tree, pos, font_size=10, font_color='black', ax=ax)\n",
    "    # networkx is annoying - sometimes nodes are partially off the canvas. This handles it. \n",
    "    ax.set_xlim([1.3*x for x in ax.get_xlim()])\n",
    "    ax.set_ylim([1.3*y for y in ax.get_ylim()])\n",
    "    ax.set_title(label)\n",
    "\n",
    "plt.tight_layout()\n",
    "plt.show()"
   ]
  },
  {
   "cell_type": "markdown",
   "metadata": {},
   "source": [
    "<div style=\"color: rgb(27,94,32); background: rgb(200,230,201); border: solid 1px rgb(129,199,132); padding: 10px;\">\n",
    "   \n",
    "<b>Challenge</b>: Calculate the Parsimony Length ***L(T)*** of a given tree for the full MSA. \n",
    "\n",
    "Use your previously defined `init_tip` and `sankoff_traverse()` functions. \n",
    "\n",
    "New considerations\n",
    "- The parsimony length of a given tree using a full MSA, *L(T)* is the sum of individual Sankoff scores (one per MSA column). \n",
    "- As there are 7 columns of the MSA, you will run `init_tip` and `sankoff_traverse()` 7 times. \n",
    "- You can choose to use the same networkx graph for each run, or create a copy. Both work. \n",
    "- For each Sankoff run, make sure to extract the minimum cost of the root node matrix and add to the running sum.\n",
    "\n",
    "</div>"
   ]
  },
  {
   "cell_type": "code",
   "execution_count": null,
   "metadata": {},
   "outputs": [],
   "source": [
    "def calculate_tree_parsimony(msa: dict, tree: nx.DiGraph) -> float:\n",
    "    ### YOUR CODE HERE\n",
    "    raise NotImplementedError\n"
   ]
  },
  {
   "cell_type": "markdown",
   "metadata": {},
   "source": [
    "You can now use your `calculate_tree_parsimony()` function above to assess each tree and identify the best. "
   ]
  },
  {
   "cell_type": "code",
   "execution_count": null,
   "metadata": {},
   "outputs": [],
   "source": [
    "all_trees = [tree1, tree2, tree3]\n",
    "all_labels = ['tree1', 'tree2', 'tree3']\n",
    "all_scores = []\n",
    "\n",
    "### YOUR CODE HERE\n",
    "raise NotImplementedError"
   ]
  }
 ],
 "metadata": {
  "celltoolbar": "Create Assignment",
  "kernelspec": {
   "display_name": "venv (3.11.5)",
   "language": "python",
   "name": "python3"
  },
  "language_info": {
   "codemirror_mode": {
    "name": "ipython",
    "version": 3
   },
   "file_extension": ".py",
   "mimetype": "text/x-python",
   "name": "python",
   "nbconvert_exporter": "python",
   "pygments_lexer": "ipython3",
   "version": "3.11.5"
  }
 },
 "nbformat": 4,
 "nbformat_minor": 4
}
