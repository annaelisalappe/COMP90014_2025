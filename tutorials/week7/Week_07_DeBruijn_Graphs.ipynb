{
 "cells": [
  {
   "cell_type": "markdown",
   "metadata": {},
   "source": [
    "# Week 7 - de novo assembly with De Bruijn graphs"
   ]
  },
  {
   "cell_type": "markdown",
   "metadata": {},
   "source": [
    "### Assembly \n",
    "\n",
    "Today we will be building a simple de-bruijn graph and extracting contigs from that graph. <br>\n",
    "Our input will be a set of 'reads', and the output will be (ideally) a single contig representing the original 'genome'.\n",
    "\n",
    "This type of assembly consists of the following steps:\n",
    "- Break reads into kmers\n",
    "- Add kmers to the graph by breaking each kmer into it's prefix / suffix \n",
    "- Walking the edges of our graph to extract final contigs. "
   ]
  },
  {
   "cell_type": "markdown",
   "metadata": {},
   "source": [
    "### Kmer Size\n",
    "Kmer size has a large impact on overall assembly quality.  <br>\n",
    "The effect of this can be seen here: \n",
    "https://github.com/rrwick/Bandage/wiki/Effect-of-kmer-size\n",
    "<br>\n",
    "Today we will just work with small strings and small k, but keep this in mind for the future. "
   ]
  },
  {
   "cell_type": "markdown",
   "metadata": {},
   "source": [
    "### Data \n",
    "\n",
    "We'll define some toy *'reads'* derived from the text <small>`\"size_matters_not\"`</small>.\n",
    "\n",
    "While there is no repetitive sequence in this text, one of the reads has an error. <br>\n",
    "We will see the implication of this after building our graph. "
   ]
  },
  {
   "cell_type": "code",
   "execution_count": 1,
   "metadata": {
    "tags": []
   },
   "outputs": [],
   "source": [
    "yoda_reads = [\n",
    "    'ters_no',\n",
    "    'ers_not',\n",
    "    'matners',\n",
    "    'size_ma',\n",
    "    'tters_',\n",
    "    'atters_n',\n",
    "    'size_m',\n",
    "    'e_matter',\n",
    "]"
   ]
  },
  {
   "cell_type": "markdown",
   "metadata": {},
   "source": [
    "### Networkx refresher"
   ]
  },
  {
   "cell_type": "markdown",
   "metadata": {},
   "source": [
    "In networkx we build our graph by adding nodes and edges.\n"
   ]
  },
  {
   "cell_type": "code",
   "execution_count": 2,
   "metadata": {
    "tags": []
   },
   "outputs": [
    {
     "data": {
      "image/png": "[encoded data removed]",
      "text/plain": [
       "<Figure size 300x300 with 1 Axes>"
      ]
     },
     "metadata": {},
     "output_type": "display_data"
    }
   ],
   "source": [
    "import networkx as nx \n",
    "import matplotlib.pyplot as plt \n",
    "\n",
    "# creating an directed graph\n",
    "G = nx.DiGraph()\n",
    "\n",
    "# adding a node\n",
    "G.add_node('A')\n",
    " \n",
    "# adding some edges (nodes will also be added if not present)\n",
    "G.add_edge('A', 'B')\n",
    "G.add_edge('B', 'C')\n",
    "G.add_edge('B', 'D')\n",
    "\n",
    "# drawing our graph\n",
    "fig = plt.figure(1, figsize=(3, 3))\n",
    "pos = nx.spring_layout(G, k=0.7)\n",
    "_ = nx.draw(G, pos=pos, with_labels=True, node_size=500, node_color='pink')"
   ]
  },
  {
   "cell_type": "markdown",
   "metadata": {},
   "source": [
    "For ***undirected*** graphs, we can get all edges from a query node using <small>`G.edges(node)`</small>.<br>\n",
    "For ***directed*** graphs, we differentiate between edges pointing ***to*** a query node, and those pointing ***from*** a query node. "
   ]
  },
  {
   "cell_type": "code",
   "execution_count": 3,
   "metadata": {},
   "outputs": [
    {
     "name": "stdout",
     "output_type": "stream",
     "text": [
      "[('A', 'B')]\n",
      "[('B', 'C'), ('B', 'D')]\n"
     ]
    }
   ],
   "source": [
    "print(G.in_edges('B'))\n",
    "print(G.out_edges('B'))"
   ]
  },
  {
   "cell_type": "markdown",
   "metadata": {},
   "source": [
    "We can add data to edges, such as a label. <br>\n",
    "We will need this when building our de bruijn graphs. \n",
    "\n",
    "Edge data can be added when an edge is added to the graph, or on existing edges by accessing their data. \n",
    "\n",
    "> **Note** <br>\n",
    "> nx.spring_layout is not deterministic, so rerun the cell below if the graph doesn't look good. <br><br>"
   ]
  },
  {
   "cell_type": "code",
   "execution_count": 4,
   "metadata": {},
   "outputs": [
    {
     "data": {
      "image/png": "[encoded data removed]",
      "text/plain": [
       "<Figure size 300x300 with 1 Axes>"
      ]
     },
     "metadata": {},
     "output_type": "display_data"
    }
   ],
   "source": [
    "# adding edge with 'label' attribute\n",
    "G.add_edge('D', 'F', label='goodbye')\n",
    "\n",
    "# updating edge data with 'label' attribute\n",
    "G.edges['B', 'D']['label'] = 'hello'\n",
    "\n",
    "# drawing our graph\n",
    "fig = plt.figure(1, figsize=(3, 3))\n",
    "pos = nx.spring_layout(G, k=0.7)\n",
    "nx.draw(G, pos=pos, with_labels=True, node_size=500, node_color='pink')\n",
    "_ = nx.draw_networkx_edge_labels(G, pos=pos, edge_labels={e: G.edges[e]['label'] for e in G.edges() if 'label' in G.edges[e]}, font_color='red')"
   ]
  },
  {
   "cell_type": "markdown",
   "metadata": {},
   "source": [
    "We can access edge data using the following approaches."
   ]
  },
  {
   "cell_type": "code",
   "execution_count": null,
   "metadata": {},
   "outputs": [],
   "source": [
    "# accessing single attribute for a single edge\n",
    "G.edges['B', 'D']['label']"
   ]
  },
  {
   "cell_type": "code",
   "execution_count": null,
   "metadata": {},
   "outputs": [],
   "source": [
    "# accessing all attributes for a single edge\n",
    "G.edges['D', 'F']"
   ]
  },
  {
   "cell_type": "code",
   "execution_count": null,
   "metadata": {},
   "outputs": [],
   "source": [
    "# getting all data on out_edges from node 'B' \n",
    "for node1, node2, data in G.out_edges('B', data=True):\n",
    "    print(node1, node2, data)\n"
   ]
  },
  {
   "cell_type": "markdown",
   "metadata": {},
   "source": [
    "<div style=\"color: rgb(27,94,32); background: rgb(200,230,201); border: solid 1px rgb(129,199,132); padding: 10px;\">\n",
    "\n",
    "### Exercise 1: Extract kmers from reads\n",
    "\n",
    "<b>Challenge:</b> Complete the function below to return all <b>unique</b> k-mers from a set of input strings. \n",
    "\n",
    "- [ ] Input: list of reads (str), kmer len k (int)\n",
    "- [ ] Output: All unique kmers (set)\n",
    "    \n",
    "</div>"
   ]
  },
  {
   "cell_type": "code",
   "execution_count": 5,
   "metadata": {
    "nbgrader": {
     "grade": false,
     "grade_id": "E1",
     "locked": false,
     "schema_version": 3,
     "solution": true,
     "task": false
    },
    "tags": []
   },
   "outputs": [],
   "source": [
    "def get_all_kmers(reads: list[str], k: int) -> set:\n",
    "    '''\n",
    "    Return a set of all k-mers of length k from a set of input reads. \n",
    "    '''\n",
    "    kmers = set()\n",
    "    for read in reads:\n",
    "        for i in range(len(read) - k + 1):\n",
    "            kmers.add(read[i:i+k])\n",
    "    return kmers"
   ]
  },
  {
   "cell_type": "code",
   "execution_count": 6,
   "metadata": {
    "tags": []
   },
   "outputs": [
    {
     "name": "stdout",
     "output_type": "stream",
     "text": [
      "_matte\n",
      "atners\n",
      "atters\n",
      "e_matt\n",
      "ers_no\n",
      "ize_ma\n",
      "matner\n",
      "matter\n",
      "rs_not\n",
      "size_m\n",
      "ters_n\n",
      "tters_\n",
      "Total kmer count: 12\n"
     ]
    }
   ],
   "source": [
    "# Should return the following\n",
    "# _matte\n",
    "# atners\n",
    "# atters\n",
    "# e_matt\n",
    "# ers_no\n",
    "# ize_ma\n",
    "# matner\n",
    "# matter\n",
    "# rs_not\n",
    "# size_m\n",
    "# ters_n\n",
    "# tters_\n",
    "# (i.e. 12 unique kmers)\n",
    "\n",
    "the_kmers = get_all_kmers(yoda_reads, 6)\n",
    "[print(x) for x in sorted(list(the_kmers))]\n",
    "print(f'Total kmer count: {len(the_kmers)}')"
   ]
  },
  {
   "cell_type": "markdown",
   "metadata": {},
   "source": [
    "<div style=\"color: rgb(27,94,32); background: rgb(200,230,201); border: solid 1px rgb(129,199,132); padding: 10px;\">\n",
    "\n",
    "### Exercise 2: Build a Directed Graph\n",
    "\n",
    "<b>Challenge:</b> Given a set of reads and a value k, build a directed graph using networkx\n",
    "\n",
    "De Bruin graph nodes are k-1 prefixes/suffixes, and edges represent kmers. <br>\n",
    "Use the <small>`\"label\"`</small> data attribute when annotating edges with their kmer. \n",
    "\n",
    "- [ ] Input: reads (list of str), k (int)\n",
    "- [ ] Output: populated graph (nx.DiGraph)\n",
    "\n",
    "Follow this procedure:\n",
    "- Initialise a nx.DiGraph()\n",
    "- Extract all kmers by calling your exercise 1 function\n",
    "- For each kmer, extract the prefix & suffix, then add an edge to the DiGraph. \n",
    "\n",
    "For the kmer AGGTA, the prefix is **AGGT**A and the suffix is A**GGTA**\n",
    "\n",
    "</div>\n"
   ]
  },
  {
   "cell_type": "code",
   "execution_count": 7,
   "metadata": {
    "nbgrader": {
     "grade": false,
     "grade_id": "cell-bde817fecdf6b350",
     "locked": false,
     "schema_version": 3,
     "solution": true,
     "task": false
    },
    "tags": []
   },
   "outputs": [],
   "source": [
    "def build_graph(reads: list[str], k: int):\n",
    "    '''\n",
    "    Given a set of reads and a value k, generate & return a de Bruijn graph represented in networkx.\n",
    "    Nodes are kmer-1 prefixes / suffixes, and edges represent kmers. \n",
    "    '''\n",
    "    G = nx.DiGraph()\n",
    "    kmers = get_all_kmers(reads, k)\n",
    "    for kmer in kmers:\n",
    "        prefix = kmer[:-1]\n",
    "        suffix = kmer[1:]\n",
    "        G.add_edge(prefix, suffix, label=kmer)\n",
    "    return G\n"
   ]
  },
  {
   "cell_type": "markdown",
   "metadata": {},
   "source": [
    "Let's build graphs for our test data and inspect them with the plotting function below."
   ]
  },
  {
   "cell_type": "code",
   "execution_count": 8,
   "metadata": {
    "tags": []
   },
   "outputs": [],
   "source": [
    "# helper func to render\n",
    "def draw_debruijn(graph):\n",
    "    fig = plt.figure(1, figsize=(16, 8), dpi=60)\n",
    "    pos = nx.spring_layout(graph, seed=2, k=0.1, iterations=50)\n",
    "    nx.draw_networkx_nodes(graph, pos, node_color='white', node_size=1000, edgecolors='black', linewidths=1)\n",
    "    nx.draw_networkx_edges(graph, pos, width=1, arrows=True, arrowstyle='-|>', arrowsize=12, min_target_margin=22)\n",
    "    nx.draw_networkx_labels(graph, pos, font_size=12, font_family=\"sans-serif\")\n",
    "    nx.draw_networkx_edge_labels(\n",
    "        graph, pos, font_color='red', font_size=12, label_pos=0.6,\n",
    "        verticalalignment='top', horizontalalignment='right',\n",
    "        edge_labels={e: graph.edges[e]['label'] for e in graph.edges}\n",
    "    )\n",
    "    plt.tight_layout()\n",
    "    plt.show()"
   ]
  },
  {
   "cell_type": "code",
   "execution_count": 9,
   "metadata": {
    "scrolled": true
   },
   "outputs": [
    {
     "data": {
      "image/png": "[encoded data removed]",
      "text/plain": [
       "<Figure size 960x480 with 1 Axes>"
      ]
     },
     "metadata": {},
     "output_type": "display_data"
    }
   ],
   "source": [
    "yoda_graph = build_graph(yoda_reads, 4)\n",
    "draw_debruijn(yoda_graph)"
   ]
  },
  {
   "cell_type": "markdown",
   "metadata": {},
   "source": [
    "<div style=\"color: rgb(27,94,32); background: rgb(200,230,201); border: solid 1px rgb(129,199,132); padding: 10px;\">\n",
    "\n",
    "### Exercise 3: Extracting a single contig from de Bruijn Graph\n",
    "\n",
    "<b>Challenge:</b> Extract a single contig by walking along edges while the path is a linear chain of nodes.  \n",
    "\n",
    "- [ ] Input: de Bruijn graph (nx.DiGraph) \n",
    "- [ ] Output: single contig sequence (str)\n",
    "\n",
    "Process:\n",
    "- To begin, find a node with no in-edges. This should only be a single node in our graph. \n",
    "- From this node, walk edges, updating the contig sequence. \n",
    "- Stop when there are no next edges, or there is a branch point (2+ edges).\n",
    "\n",
    "Keep in mind that the kmers on edge labels are sequential: eg \n",
    "\n",
    "```\n",
    "kmers:  APPL\n",
    "         PPLE\n",
    "          PLES\n",
    "        ------\n",
    "contig: APPLES\n",
    "```\n",
    "\n",
    "You can get the number of in-edges to a node using the following. <br>\n",
    "- <small>`G.in_degree(node)`</small>\n",
    "\n",
    "You can get a list of the edges from a <small>`node`</small> using the following. <br>\n",
    "- <small>`edges = list(G.out_edges(node, data=True))`</small>\n",
    "\n",
    "The kmer on each edge should be present as the <small>`\"label\"`</small> attribute. \n",
    "</div>\n",
    "\n"
   ]
  },
  {
   "cell_type": "code",
   "execution_count": 12,
   "metadata": {},
   "outputs": [],
   "source": [
    "def extract_contig(G: nx.DiGraph) -> str:\n",
    "    \"\"\"\n",
    "    Extract a single contig from a de Bruijn graph\n",
    "    \"\"\"\n",
    "    for nodes in G.nodes():\n",
    "        if G.in_degree(nodes) == 0:\n",
    "            start_node = nodes\n",
    "            break\n",
    "    contig = start_node\n",
    "    current_node = start_node\n",
    "    while True:\n",
    "        out_edges = list(G.out_edges(current_node, data=True))\n",
    "        if len(out_edges) == 0 or len(out_edges) > 1:\n",
    "            break\n",
    "        # assuming only one outgoing edge\n",
    "        _, next_node, edge_data = out_edges[0]\n",
    "        contig += edge_data['label'][-1]\n",
    "        current_node = next_node\n",
    "    return contig\n"
   ]
  },
  {
   "cell_type": "code",
   "execution_count": 13,
   "metadata": {},
   "outputs": [
    {
     "data": {
      "text/plain": [
       "'size_mat'"
      ]
     },
     "execution_count": 13,
     "metadata": {},
     "output_type": "execute_result"
    }
   ],
   "source": [
    "# should print 'size_mat'\n",
    "extract_contig(yoda_graph)"
   ]
  },
  {
   "cell_type": "markdown",
   "metadata": {},
   "source": [
    "<div style=\"background: rgb(255,165,0); border: solid 1px rgb(129,199,132); padding: 10px;\">    \n",
    "\n",
    "<h1>Extension</h1>\n",
    "\n",
    "</div>\n",
    "\n",
    "**Extracting all contigs**\n",
    "\n",
    "In the function above, we have only extracted one contig, using our \"node with no in-edges\" logic to begin a walk. \n",
    "\n",
    "We're not quite done, as the example de Bruijn graph should actually yield 4 contigs.<br>\n",
    "This is because we have not addressed the branch point at node 'mat', and merge at node 'ers'.\n",
    "\n",
    "We could approach this in a number of ways, but in this tutorial we will use the following approach:\n",
    "- Identify ***all*** nodes which should start contigs\n",
    "- Walk each to extract the sequence.\n",
    "\n",
    "**Identifying start nodes**\n",
    "\n",
    "There are therefore three rules for identifying starting nodes. \n",
    "1. If a node has no in-edges (as previous), ***this node*** is a starting node. \n",
    "2. If a node has multiple out-edges, ***each child node*** is a starting node.\n",
    "3. If a node has multiple in-edges, ***this node*** is a starting node. \n",
    "\n",
    "The following will help you identify start nodes:\n",
    "- <small>`G.in_degree(node)`</small>\n",
    "- <small>`G.out_degree(node)`</small>\n",
    "- <small>`G.neighbors(node)`</small>\n",
    "- <small>`G.predecessors(node)`</small>\n",
    "\n",
    "**Walking edges**\n",
    "\n",
    "One extra condition for our walk is related to the merge at node 'ers'.<br>\n",
    "This node is a contig start, so if we encounter this node during another walk (ie walking from 'ter' to 'ers'), we should stop our traversal.  \n"
   ]
  },
  {
   "cell_type": "markdown",
   "metadata": {},
   "source": [
    "<div style=\"color: rgb(27,94,32); background: rgb(200,230,201); border: solid 1px rgb(129,199,132); padding: 10px;\">\n",
    "\n",
    "### Exercise 4: Extracting all contigs from de Bruijn Graph\n",
    "\n",
    "<b>Challenge:</b> Extract all contigs.\n",
    "\n",
    "- [ ] Input: de Bruijn graph (nx.DiGraph) \n",
    "- [ ] Output: contig sequences (list of str)\n",
    "\n",
    "Copy and paste your solution from Exercise 3, then add additional logic to handle multiple contigs. \n",
    "\n",
    "Process:\n",
    "- Find all contig start nodes\n",
    "- Walk each to extract the contig sequence. \n",
    "\n",
    "</div>\n",
    "\n"
   ]
  },
  {
   "cell_type": "code",
   "execution_count": 34,
   "metadata": {},
   "outputs": [],
   "source": [
    "def extract_all_contigs(G: nx.DiGraph) -> list[str]:\n",
    "    \"\"\"\n",
    "    Extracts all contigs from a de Bruijn graph.\n",
    "    \"\"\"\n",
    "    start_nodes = []\n",
    "    for node in G.nodes():\n",
    "        if G.in_degree(node) == 0 or G.in_degree(node) > 1:\n",
    "            start_nodes.append(node)\n",
    "        elif G.out_degree(node) > 1:\n",
    "            child_nodes = list(G.successors(node))\n",
    "            start_nodes += child_nodes\n",
    "    \n",
    "    contigs = []\n",
    "    for start in start_nodes:\n",
    "        contig = start\n",
    "        current_node = start\n",
    "        while True:\n",
    "            out_edges = list(G.out_edges(current_node, data=True))\n",
    "            if len(out_edges) == 0 or any(succ in start_nodes for succ in G.successors(current_node)):\n",
    "                break\n",
    "            # assuming only one outgoing edge\n",
    "            _, next_node, edge_data = out_edges[0]\n",
    "            contig += edge_data['label'][-1]\n",
    "            current_node = next_node\n",
    "        contigs.append(contig)\n",
    "    return contigs\n",
    "            \n",
    "\n",
    "            \n"
   ]
  },
  {
   "cell_type": "code",
   "execution_count": 35,
   "metadata": {},
   "outputs": [
    {
     "data": {
      "text/plain": [
       "['atner', 'atter', 'ers_not', 'size_mat']"
      ]
     },
     "execution_count": 35,
     "metadata": {},
     "output_type": "execute_result"
    }
   ],
   "source": [
    "# should print ['ers_not', 'atner', 'atter', 'size_mat']\n",
    "extract_all_contigs(yoda_graph)"
   ]
  }
 ],
 "metadata": {
  "celltoolbar": "Create Assignment",
  "kernelspec": {
   "display_name": "algorithms-a1",
   "language": "python",
   "name": "python3"
  },
  "language_info": {
   "codemirror_mode": {
    "name": "ipython",
    "version": 3
   },
   "file_extension": ".py",
   "mimetype": "text/x-python",
   "name": "python",
   "nbconvert_exporter": "python",
   "pygments_lexer": "ipython3",
   "version": "3.13.5"
  }
 },
 "nbformat": 4,
 "nbformat_minor": 4
}
