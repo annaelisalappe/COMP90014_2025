{
 "cells": [
  {
   "cell_type": "markdown",
   "metadata": {},
   "source": [
    "# Week 6 - Networks "
   ]
  },
  {
   "cell_type": "markdown",
   "metadata": {},
   "source": [
    "<div style=\"color: rgb(27,94,32); background: rgb(200,230,201); border: solid 1px rgb(129,199,132); padding: 10px;\">\n",
    "In this lab you'll do some exercises to familiarise yourself with network properties and concepts.\n",
    "</div>"
   ]
  },
  {
   "cell_type": "markdown",
   "metadata": {},
   "source": [
    "## Setup\n",
    "\n",
    "Make sure you have `python >= 3.10`. Check using `python --version` or `python3 --version`.\n",
    "\n",
    "**Week 6 packages**\n",
    "\n",
    "This week we will use:\n",
    "- networkx\n",
    "- ipykernel\n",
    "- matplotlib\n",
    "- scipy\n",
    "- numpy\n",
    "- pandas\n",
    "\n",
    "**imports**"
   ]
  },
  {
   "cell_type": "code",
   "execution_count": null,
   "metadata": {},
   "outputs": [],
   "source": [
    "import itertools\n",
    "import networkx as nx\n",
    "import matplotlib.pyplot as plt\n",
    "import pickle\n",
    "import pandas as pd\n",
    "import numpy as np\n",
    "%matplotlib inline"
   ]
  },
  {
   "cell_type": "markdown",
   "metadata": {},
   "source": [
    "## **INTRODUCTION**"
   ]
  },
  {
   "cell_type": "markdown",
   "metadata": {},
   "source": [
    "## Exploring classes in python."
   ]
  },
  {
   "cell_type": "markdown",
   "metadata": {},
   "source": [
    "\n",
    "**Investigating objects**\n",
    "\n",
    "To view the available properties of an object, we can use the <small>`dir(object)`</small> function. <br>\n",
    "This will display all methods (functions), attribues (variables) belonging to an object. \n",
    "\n",
    "> **Note** <br>\n",
    "> Aside from using the python <small>`dir(object)`</small> function, there are other ways to investigate objects:\n",
    "> - Read the docs / manual (eg the [python docs](https://www.python.org/doc/), or the [networkx docs](https://networkx.org/documentation/stable/reference/index.html))\n",
    "> - By right clicking -> \"Go to definition\" (F12) in VSC \n",
    "> - By investigating objects during runtime using the VSC debugger. <br><br>\n",
    "\n",
    "We can use <small>`dir(object)`</small> to investigate the contents of the ***networkx*** package. \n"
   ]
  },
  {
   "cell_type": "markdown",
   "metadata": {},
   "source": [
    "**Data in python**\n",
    "\n",
    "Python supports many types of data containers. These include ***variables***, ***collections*** (such as lists), and ***classes***. <br>\n",
    "In python, these are all internally stored as objects. \n",
    "\n",
    "Quoting from the [python reference docs](https://docs.python.org/3/reference/datamodel.html): <br>\n",
    "*\"Objects are Python’s abstraction for data. All data in a Python program is represented by objects or by relations between objects.\"*\n",
    "\n",
    "Even imported packages / external python files using the ***module system*** are stored as objects. \n",
    "\n",
    "These objects may have subobjects. For example:\n",
    "- The functions available in an imported package\n",
    "- Attributes/methods on classes"
   ]
  },
  {
   "cell_type": "markdown",
   "metadata": {},
   "source": [
    "We will work with **Graph()** (undirected) and **DiGraph()** (directed) graph classes supplied by networkx today. <br>\n",
    "Let's see what attributes the Graph() class has:\n"
   ]
  },
  {
   "cell_type": "code",
   "execution_count": null,
   "metadata": {},
   "outputs": [],
   "source": [
    "dir(nx.Graph)"
   ]
  },
  {
   "cell_type": "markdown",
   "metadata": {},
   "source": [
    "We can try a few of these out to see how they work. Run the cell below."
   ]
  },
  {
   "cell_type": "code",
   "execution_count": null,
   "metadata": {},
   "outputs": [],
   "source": [
    "graphA = nx.Graph()\n",
    "print(graphA.is_directed())\n",
    "print(graphA.size())\n",
    "\n",
    "graphA.add_edge('A', 'B')\n",
    "print(graphA.size())"
   ]
  },
  {
   "cell_type": "markdown",
   "metadata": {},
   "source": [
    "Rather than printing out DiGraph's methods, the following cell will list the attributes which are **exclusive** to Graph or DiGraph."
   ]
  },
  {
   "cell_type": "code",
   "execution_count": null,
   "metadata": {},
   "outputs": [],
   "source": [
    "graphA_attributes = set(dir(nx.Graph))\n",
    "graphB_attributes = set(dir(nx.DiGraph))\n",
    "\n",
    "print('\\nGraphA (Graph) exclusive attributes:')\n",
    "print(list(graphA_attributes - graphB_attributes))\n",
    "\n",
    "print('\\nGraphB (DiGraph) exclusive attributes:')\n",
    "print(list(graphB_attributes - graphA_attributes))"
   ]
  },
  {
   "cell_type": "markdown",
   "metadata": {},
   "source": [
    "The directed graph class has a more methods than the undirected graph class.  <br>\n",
    "This is because directed graphs differentiate between incoming vs outgoing edges on a node. "
   ]
  },
  {
   "cell_type": "markdown",
   "metadata": {},
   "source": [
    "## Intro exercise 1 - Interpreting Graphs\n",
    "\n",
    "Given the <b>undirected</b> graph drawn below, write down the adjacency matrix.<br>\n",
    "Do this inside the markdown cell below. \n",
    "\n",
    "For example (different network): \n",
    "\n",
    "```\n",
    "  X Y Z\n",
    "X 0 1 1\n",
    "Y 1 0 0 \n",
    "Z 1 0 0 \n",
    "```  "
   ]
  },
  {
   "cell_type": "markdown",
   "metadata": {},
   "source": [
    "<img src=\"./media/small_graph_undirected.png\" width=\"400\">"
   ]
  },
  {
   "cell_type": "markdown",
   "metadata": {},
   "source": [
    "```\n",
    "# YOUR ANSWER HERE\n",
    "  A B C D\n",
    "A        \n",
    "B        \n",
    "C        \n",
    "D        \n",
    "```"
   ]
  },
  {
   "cell_type": "markdown",
   "metadata": {},
   "source": [
    "Given the <b>directed</b> graph drawn below, write down the adjacency matrix. <br>\n",
    "Think whether the matrix should still be symmetrical."
   ]
  },
  {
   "cell_type": "markdown",
   "metadata": {},
   "source": [
    "<img src=\"./media/small_graph_directed.png\" width=\"400\">\n",
    "\n"
   ]
  },
  {
   "cell_type": "markdown",
   "metadata": {},
   "source": [
    "```\n",
    "# YOUR ANSWER HERE   \n",
    "            (child)  \n",
    "           A B C D E \n",
    "         A           \n",
    "         B           \n",
    "(parent) C           \n",
    "         D           \n",
    "         E           \n",
    "```"
   ]
  },
  {
   "cell_type": "markdown",
   "metadata": {},
   "source": [
    "## Intro exercise 2 - Defining Graphs\n",
    "\n",
    "Create the above graphs in networkx. use the <b>graph_object.add_edge()</b> method to add edges. \n",
    "<br>An example showing how to draw GraphA, and show other representations of the data is given below."
   ]
  },
  {
   "cell_type": "markdown",
   "metadata": {},
   "source": [
    "Define an **undirected** networkx graph object and add nodes/edges:"
   ]
  },
  {
   "cell_type": "code",
   "execution_count": null,
   "metadata": {
    "nbgrader": {
     "grade": false,
     "grade_id": "E2a",
     "locked": false,
     "schema_version": 3,
     "solution": true,
     "task": false
    }
   },
   "outputs": [],
   "source": [
    "graphA = nx.Graph()\n",
    "\n",
    "# YOUR CODE HERE\n",
    "raise NotImplementedError"
   ]
  },
  {
   "cell_type": "markdown",
   "metadata": {},
   "source": [
    "Define a **directed** networkx graph object and add nodes/edges:"
   ]
  },
  {
   "cell_type": "code",
   "execution_count": null,
   "metadata": {
    "nbgrader": {
     "grade": false,
     "grade_id": "E2b",
     "locked": false,
     "schema_version": 3,
     "solution": true,
     "task": false
    }
   },
   "outputs": [],
   "source": [
    "graphB = nx.DiGraph()\n",
    "\n",
    "# YOUR CODE HERE\n",
    "raise NotImplementedError"
   ]
  },
  {
   "cell_type": "markdown",
   "metadata": {},
   "source": [
    "<br>The following 4 cells show different representations of our graph:<br>"
   ]
  },
  {
   "cell_type": "code",
   "execution_count": null,
   "metadata": {},
   "outputs": [],
   "source": [
    "nx.draw_spring(graphA, with_labels=True, node_size=1200, node_color='#eeeeff', edge_color='red')"
   ]
  },
  {
   "cell_type": "code",
   "execution_count": null,
   "metadata": {},
   "outputs": [],
   "source": [
    "nx.adjacency_matrix(graphA)"
   ]
  },
  {
   "cell_type": "code",
   "execution_count": null,
   "metadata": {},
   "outputs": [],
   "source": [
    "print(nx.adjacency_matrix(graphA))"
   ]
  },
  {
   "cell_type": "markdown",
   "metadata": {},
   "source": [
    "The output from the above cells only shows connections between nodes. It does not show where there are two nodes that are not connected as this is not useful information. Print the numpy array below to see how the coordinates only show where the connections occur. "
   ]
  },
  {
   "cell_type": "code",
   "execution_count": null,
   "metadata": {},
   "outputs": [],
   "source": [
    "print(graphA.nodes())\n",
    "nx.to_numpy_array(graphA)"
   ]
  },
  {
   "cell_type": "markdown",
   "metadata": {},
   "source": [
    "<br>networkx seems to be using 'numpy' - a popular python library, to store graph data. \n",
    "<br>numpy allows matrix and vector operations to be performed quickly and efficiently. This makes sense if our network gets very big! "
   ]
  },
  {
   "cell_type": "markdown",
   "metadata": {},
   "source": [
    "Lets also check graphB to see if we created it correctly. Print the adjacency matrix for `graphB` (as above) in the folowing cell:"
   ]
  },
  {
   "cell_type": "code",
   "execution_count": null,
   "metadata": {
    "nbgrader": {
     "grade": false,
     "grade_id": "E2c",
     "locked": false,
     "schema_version": 3,
     "solution": true,
     "task": false
    }
   },
   "outputs": [],
   "source": [
    "nx.draw_spring(graphB, with_labels=True, node_size=1200, node_color='#eeeeff', edge_color='red')\n",
    "print(nx.adjacency_matrix(graphB))\n",
    "nx.to_numpy_array(graphB)"
   ]
  },
  {
   "cell_type": "markdown",
   "metadata": {},
   "source": [
    "## **Exercises**\n",
    "\n",
    "</div>"
   ]
  },
  {
   "cell_type": "markdown",
   "metadata": {},
   "source": [
    "## Exercise 1 - Network Properties \n",
    "\n",
    "Complete the function below to find the degree distrbution for any given graph. You can use the networkx method `graph.degree()`, which returns the number of edges connecting to each node. You should return a dictionary or a Counter: the keys should be all observed vertex degree values in the graph, and the values are the counts showing how often a vertex with that degree was observed.\n",
    "\n",
    "For instance, calling `degree_distribution()` on `graphA` above could return\n",
    "\n",
    "```{2: 2, 3: 1, 1: 1}``` or ```Counter({2: 2, 3: 1, 1: 1})```\n",
    "\n",
    "Meaning that there is one vertex with degree 1 (D), two vertices with degree 2 (A and B), and one vertex with degree 3 (C).\n",
    "\n",
    "The dictionary will give us a handy form for plotting the degree distribution."
   ]
  },
  {
   "cell_type": "code",
   "execution_count": null,
   "metadata": {},
   "outputs": [],
   "source": [
    "# Here's the networkx function `graph.degree()`:\n",
    "graphA.degree('C')"
   ]
  },
  {
   "cell_type": "markdown",
   "metadata": {},
   "source": [
    "<div style=\"color: rgb(27,94,32); background: rgb(200,230,201); border: solid 1px rgb(129,199,132); padding: 10px;\">\n",
    "\n",
    "<b>Challenge:</b> Write a function that calculates the degree frequency in the graph. It returns a dictionary. The keys should be all observed vertex degree values in the graph, and the values are the counts showing how often a vertex with that degree was observed.\n",
    "\n",
    "Hint:\n",
    "\n",
    "- You may use `from collections import Counter` to construct a counting dictionary.\n",
    "\n",
    "</div>"
   ]
  },
  {
   "cell_type": "code",
   "execution_count": null,
   "metadata": {
    "nbgrader": {
     "grade": false,
     "grade_id": "E3",
     "locked": false,
     "schema_version": 3,
     "solution": true,
     "task": false
    }
   },
   "outputs": [],
   "source": [
    "def degree_distribution(graph):\n",
    "    \"\"\"\n",
    "    For the networkx graph provided, return a dictionary, where\n",
    "    the keys are all observed vertex degrees, and values are \n",
    "    the corresponding counts.\n",
    "    \"\"\"\n",
    "    # YOUR CODE HERE\n",
    "    raise NotImplementedError"
   ]
  },
  {
   "cell_type": "markdown",
   "metadata": {},
   "source": [
    "<div style=\"color: rgb(27,94,32); background: rgb(200,230,201); border: solid 1px rgb(129,199,132); padding: 10px;\"></div>"
   ]
  },
  {
   "cell_type": "markdown",
   "metadata": {},
   "source": [
    "Once you have this function, you can draw the degree distribution with a scatter plot:"
   ]
  },
  {
   "cell_type": "code",
   "execution_count": null,
   "metadata": {},
   "outputs": [],
   "source": [
    "# Graph A:\n",
    "def plot_degree_distribution(degree_dict):\n",
    "    degrees = sorted(degree_dict.keys())\n",
    "    counts = [degree_dict[d] for d in degrees]\n",
    "\n",
    "    _, ax = plt.subplots()\n",
    "    ax.bar(degrees, counts, edgecolor='black', alpha=0.7)\n",
    "    ax.set_xlabel('Degree')\n",
    "    ax.set_ylabel('Frequency')\n",
    "    ax.set_title('Degree Distribution')\n",
    "    ax.grid(True, alpha=0.3, axis='y')\n",
    "    plt.tight_layout()\n",
    "    plt.show()\n",
    "\n",
    "degree_dict = degree_distribution(graphA)\n",
    "plot_degree_distribution(degree_dict)"
   ]
  },
  {
   "cell_type": "markdown",
   "metadata": {},
   "source": [
    "Here are some graphs of types described in lectures. You can generate other graph types with networkx functions described at https://networkx.github.io/documentation/stable/reference/generators.html\n",
    "\n",
    "A random (Erdos-Renyi) graph:"
   ]
  },
  {
   "cell_type": "code",
   "execution_count": null,
   "metadata": {},
   "outputs": [],
   "source": [
    "# 600 nodes, probability of each edge 0.4\n",
    "random_graph = nx.fast_gnp_random_graph(600, 0.4)"
   ]
  },
  {
   "cell_type": "markdown",
   "metadata": {},
   "source": [
    "A scale-free graph:"
   ]
  },
  {
   "cell_type": "code",
   "execution_count": null,
   "metadata": {},
   "outputs": [],
   "source": [
    "# 600 nodes\n",
    "scale_free_graph = nx.scale_free_graph(600)"
   ]
  },
  {
   "cell_type": "markdown",
   "metadata": {},
   "source": [
    "If you are finding the degree distribution correctly, you can plot the distributions for these different graph types:"
   ]
  },
  {
   "cell_type": "code",
   "execution_count": null,
   "metadata": {},
   "outputs": [],
   "source": [
    "degree_dict = degree_distribution(random_graph)\n",
    "plot_degree_distribution(degree_dict)"
   ]
  },
  {
   "cell_type": "code",
   "execution_count": null,
   "metadata": {},
   "outputs": [],
   "source": [
    "degree_dict = degree_distribution(scale_free_graph)\n",
    "plot_degree_distribution(degree_dict)"
   ]
  },
  {
   "cell_type": "markdown",
   "metadata": {},
   "source": [
    "<div style= border: solid 1px rgb(129,199,132); padding: 10px;\">\n",
    "<h3>Exercise 2: Protein-protein interaction networks</h3>\n",
    "\n",
    "<h4> The Data:</h4>\n",
    "\n",
    "In this question we will look at ***a small subgraph*** of the baker's yeast Protein-Protein-Interaction network, taken from the [STRING database](https://string-db.org/). \n",
    "\n",
    "This data is available as `data/saccharomyces_cerevisiae_ppi.pickle` within the week6 folder.\n",
    "\n",
    "> ***What's a .pickle file?*** <br>\n",
    "> The `pickle` python package provides a way to write python objects ***directly to disk*** as binary files. <br> \n",
    "> For those who are familiar with R, consider this similar to an Rdata file. <br>\n",
    "> PPI networks are available via STRING .tsv files, so the download and loading of the .tsv to a networkx graph object has been done for you. <br>\n",
    "> This has been used for the Yeast PPI in today's tutorial to save time. <br>\n",
    "> To load a pickle file, we simply use the `load()` function, providing a path to the binary data. \n",
    "\n",
    "Some information about the PPI network:\n",
    "- The graph is undirected\n",
    "- Nodes are proteins\n",
    "- Edges represent a protein-protein interaction\n",
    "- Edges are unlabelled.\n",
    "\n",
    "</div>"
   ]
  },
  {
   "cell_type": "markdown",
   "metadata": {},
   "source": [
    "##### Explore the network\n",
    "\n",
    "This section we will explore various functions of NetworkX. The official reference is at [https://networkx.org/documentation/stable/reference/algorithms/index.html](https://networkx.org/documentation/stable/reference/algorithms/index.html)"
   ]
  },
  {
   "cell_type": "code",
   "execution_count": null,
   "metadata": {},
   "outputs": [],
   "source": [
    "# Import the network\n",
    "ppi = pickle.load(open(r'data/saccharomyces_cerevisiae_ppi.pickle', 'rb'))\n",
    "#Print graph object\n",
    "print(ppi)"
   ]
  },
  {
   "cell_type": "code",
   "execution_count": null,
   "metadata": {},
   "outputs": [],
   "source": [
    "# Visualise Graph\n",
    "nx.draw_spring(ppi, with_labels=True, node_size=120, node_color='#eeeeff', edge_color='red')"
   ]
  },
  {
   "cell_type": "code",
   "execution_count": null,
   "metadata": {},
   "outputs": [],
   "source": [
    "#Print the distribution\n",
    "degree_dict = degree_distribution(ppi)\n",
    "plot_degree_distribution(degree_dict)"
   ]
  },
  {
   "cell_type": "markdown",
   "metadata": {},
   "source": [
    "Check if there are any attributes on the nodes (should be empty)"
   ]
  },
  {
   "cell_type": "code",
   "execution_count": null,
   "metadata": {},
   "outputs": [],
   "source": [
    "ppi.nodes[\"Q0010\"].keys()"
   ]
  },
  {
   "cell_type": "markdown",
   "metadata": {},
   "source": [
    "Check if there are any attributes on the edges (should be empty)"
   ]
  },
  {
   "cell_type": "code",
   "execution_count": null,
   "metadata": {},
   "outputs": [],
   "source": [
    "ppi.edges['Q0010', 'YMR207C'].keys()"
   ]
  },
  {
   "cell_type": "markdown",
   "metadata": {},
   "source": [
    "<div style=\"color: rgb(27,94,32); background: rgb(200,230,201); border: solid 1px rgb(129,199,132); padding: 10px;\">\n",
    "\n",
    "<b>Challenge 1:</b> Use networkx functions to answer the following questions. \n",
    "\n",
    "1. What is the graph density? \n",
    "2. What is the global clustering coefficient of the graph? \n",
    "3. What is the average (shortest) path length of the graph? \n",
    "4. How many components are in the graph? Is it fully connected? \n",
    "\n",
    "Given the above metrics and the degree distribution, what type of graph are we dealing with? <br>\n",
    "Does it fit perfectly into our Lattice, Random, Small-World, or Scale-Free archetypes, or does it have features of multiple archetypes? \n",
    "\n",
    "</div>"
   ]
  },
  {
   "cell_type": "code",
   "execution_count": null,
   "metadata": {},
   "outputs": [],
   "source": [
    "density = nx.density(ppi)\n",
    "gcc = nx.average_clustering(ppi)\n",
    "apl = nx.average_shortest_path_length(ppi)\n",
    "n_comps = len(list(nx.connected_components(ppi)))\n",
    "\n",
    "print(f\"Graph density:          {density}\")\n",
    "print(f\"Clustering coefficient: {gcc}\")\n",
    "print(f\"Average path length:    {apl}\")\n",
    "print(f\"Number of Components:   {n_comps}\")"
   ]
  },
  {
   "cell_type": "markdown",
   "metadata": {},
   "source": [
    "<div style=\"color: rgb(27,94,32); background: rgb(200,230,201); border: solid 1px rgb(129,199,132); padding: 10px;\"></div>"
   ]
  },
  {
   "cell_type": "markdown",
   "metadata": {},
   "source": [
    "<div style=\"color: rgb(27,94,32); background: rgb(200,230,201); border: solid 1px rgb(129,199,132); padding: 10px;\">\n",
    "\n",
    "<b>Challenge 2:</b> Use networkx functions to answer the following questions. \n",
    "\n",
    "1. What is the degree centrality of node 'Q0010', and how does this rank among all nodes?\n",
    "3. What is the eigenvector centrality of node 'Q0010', and how does this rank among all nodes? \n",
    "3. What is the betweenness centrality of node 'Q0010', and how does this rank among all nodes? \n",
    "\n",
    "</div>"
   ]
  },
  {
   "cell_type": "code",
   "execution_count": null,
   "metadata": {},
   "outputs": [],
   "source": [
    "# create a dataframe to store metrics for each node\n",
    "df = pd.DataFrame(index=list(ppi.nodes()))\n",
    "df['degree'] = nx.degree_centrality(ppi)\n",
    "df['eigenvector'] = nx.eigenvector_centrality(ppi)\n",
    "df['betweenness'] = nx.betweenness_centrality(ppi)\n",
    "\n",
    "# add columns for ranks\n",
    "df['degree_rank'] = df['degree'].rank(ascending=False, method='min').astype(int)\n",
    "df['eigenvector_rank'] = df['eigenvector'].rank(ascending=False, method='min').astype(int)\n",
    "df['betweenness_rank'] = df['betweenness'].rank(ascending=False, method='min').astype(int)\n",
    "\n",
    "# print out values\n",
    "query = 'Q0010'\n",
    "print(f\"degree centrality:      {df.loc[query, 'degree']:.3f}, rank={df.loc[query, 'degree_rank']}\")\n",
    "print(f\"eigenvector centrality: {df.loc[query, 'eigenvector']:.3f}, rank={df.loc[query, 'eigenvector_rank']}\")\n",
    "print(f\"betweenness centrality: {df.loc[query, 'betweenness']:.3f}, rank={df.loc[query, 'betweenness_rank']}\")"
   ]
  },
  {
   "cell_type": "markdown",
   "metadata": {},
   "source": [
    "<div style=\"color: rgb(27,94,32); background: rgb(200,230,201); border: solid 1px rgb(129,199,132); padding: 10px;\"></div>"
   ]
  },
  {
   "cell_type": "markdown",
   "metadata": {},
   "source": [
    "The final code cell below plots the neighbors for a given node.<br>\n",
    "Can be used to visualise a key node, for example \"Q0010\" which has highest degree & eigenvector centrality. "
   ]
  },
  {
   "cell_type": "code",
   "execution_count": null,
   "metadata": {},
   "outputs": [],
   "source": [
    "G = ppi.to_undirected().copy()\n",
    "G.remove_edges_from(nx.selfloop_edges(G))\n",
    "target = \"Q0010\"\n",
    "\n",
    "# Reusable layout (set a seed for reproducibility)\n",
    "pos = nx.spring_layout(G, seed=42, k=None)  # k=None lets nx choose based on graph size\n",
    "\n",
    "# 1-hop neighborhood\n",
    "nbrs = set(G.neighbors(target))\n",
    "target_plus_nbrs = nbrs | {target}\n",
    "\n",
    "plt.figure(figsize=(8,6), dpi=150)\n",
    "\n",
    "# base layer\n",
    "nx.draw_networkx_edges(G, pos, width=0.3, edge_color=\"#cccccc\", alpha=0.35)\n",
    "nx.draw_networkx_nodes(G, pos, node_size=10, node_color=\"#d9d9d9\", alpha=0.8)\n",
    "\n",
    "# neighbors\n",
    "nx.draw_networkx_nodes(G, pos, nodelist=list(nbrs), node_size=30, node_color=\"#1f77b4\", alpha=0.9)\n",
    "\n",
    "# highlight target\n",
    "nx.draw_networkx_nodes(G, pos, nodelist=[target], node_size=200, node_color=\"#d62728\", edgecolors=\"black\", linewidths=1.2)\n",
    "\n",
    "# optional label for the target only\n",
    "nx.draw_networkx_labels(G, pos, labels={target: target}, font_size=10)\n",
    "\n",
    "plt.title(f\"Global view: {target} and its neighbors\")\n",
    "plt.axis(\"off\"); plt.tight_layout(); plt.show()"
   ]
  }
 ],
 "metadata": {
  "celltoolbar": "Create Assignment",
  "kernelspec": {
   "display_name": "venv (3.11.5)",
   "language": "python",
   "name": "python3"
  },
  "language_info": {
   "codemirror_mode": {
    "name": "ipython",
    "version": 3
   },
   "file_extension": ".py",
   "mimetype": "text/x-python",
   "name": "python",
   "nbconvert_exporter": "python",
   "pygments_lexer": "ipython3",
   "version": "3.11.5"
  }
 },
 "nbformat": 4,
 "nbformat_minor": 4
}
